{
 "cells": [
  {
   "cell_type": "code",
   "execution_count": 1,
   "metadata": {},
   "outputs": [],
   "source": [
    "import pandas as pd\n",
    "import numpy as np\n",
    "\n",
    "from sklearn.model_selection import train_test_split\n",
    "from sklearn.feature_extraction import DictVectorizer\n",
    "\n",
    "from sklearn.ensemble import ExtraTreesClassifier"
   ]
  },
  {
   "cell_type": "code",
   "execution_count": 2,
   "metadata": {},
   "outputs": [],
   "source": [
    "data = 'heart.csv'\n",
    "df = pd.read_csv(data)"
   ]
  },
  {
   "cell_type": "code",
   "execution_count": 3,
   "metadata": {},
   "outputs": [],
   "source": [
    "sex_values = {\n",
    "    1: 'M',\n",
    "    0: 'F',\n",
    "}\n",
    "df.sex = df.sex.map(sex_values)\n",
    "\n",
    "fasting_blood_sugar_values = {\n",
    "    0: '0',\n",
    "    1: '1',\n",
    "}\n",
    "df.fasting_blood_sugar = df.fasting_blood_sugar.map(fasting_blood_sugar_values)\n",
    "\n",
    "resting_ecg_values = {\n",
    "    0: 'Normal',\n",
    "    1: 'ST',\n",
    "    2: 'LVH'\n",
    "}\n",
    "df.resting_ecg = df.resting_ecg.map(resting_ecg_values)\n",
    "\n",
    "exercise_angina_values = {\n",
    "    0: 'No',\n",
    "    1: 'Yes'\n",
    "}\n",
    "df.exercise_angina = df.exercise_angina.map(exercise_angina_values)\n",
    "ST_slope_values = {\n",
    "    1: 'Up',\n",
    "    2: 'Flat',\n",
    "    3: 'Down'\n",
    "}\n",
    "df.ST_slope = df.ST_slope.map(ST_slope_values)"
   ]
  },
  {
   "cell_type": "code",
   "execution_count": 4,
   "metadata": {},
   "outputs": [],
   "source": [
    "df.columns = df.columns.str.lower()\n",
    "categorical = list(df.dtypes[df.dtypes == 'object'].index)"
   ]
  },
  {
   "cell_type": "code",
   "execution_count": 5,
   "metadata": {},
   "outputs": [],
   "source": [
    "numerical = ['age', 'resting_bp_s', 'cholesterol','max_heart_rate','oldpeak']"
   ]
  },
  {
   "cell_type": "code",
   "execution_count": 6,
   "metadata": {},
   "outputs": [],
   "source": [
    "df_train, df_test = train_test_split(df, test_size=0.2, random_state=1)\n",
    "df_train = df_train.reset_index(drop=True)\n",
    "df_test = df_test.reset_index(drop=True)\n",
    "\n",
    "y_train = df_train.heart_diesease.values\n",
    "y_test = df_test.heart_diesease.values\n",
    "\n",
    "del df_train['heart_diesease']\n",
    "del df_test['heart_diesease']"
   ]
  },
  {
   "cell_type": "code",
   "execution_count": 7,
   "metadata": {},
   "outputs": [],
   "source": [
    "df_train = df_train.fillna('Down')\n",
    "df_test = df_test.fillna('Down')"
   ]
  },
  {
   "cell_type": "code",
   "execution_count": 8,
   "metadata": {},
   "outputs": [],
   "source": [
    "dv = DictVectorizer(sparse=False)\n",
    "\n",
    "train_dict = df_train.to_dict(orient='records')\n",
    "X_train = dv.fit_transform(train_dict)\n",
    "\n",
    "\n",
    "test_dict = df_test.to_dict(orient='records')\n",
    "X_test = dv.transform(test_dict)"
   ]
  },
  {
   "cell_type": "code",
   "execution_count": 9,
   "metadata": {},
   "outputs": [],
   "source": [
    "et = ExtraTreesClassifier(n_estimators=10, max_depth=None,min_samples_split=2, random_state=1)\n",
    "model = et.fit(X_train, y_train)"
   ]
  },
  {
   "cell_type": "code",
   "execution_count": 10,
   "metadata": {},
   "outputs": [],
   "source": [
    "import bentoml"
   ]
  },
  {
   "cell_type": "code",
   "execution_count": 11,
   "metadata": {},
   "outputs": [
    {
     "data": {
      "text/plain": [
       "<module 'bentoml.sklearn' from '/home/arundac23/enter/envs/bentoml/lib/python3.10/site-packages/bentoml/sklearn.py'>"
      ]
     },
     "execution_count": 11,
     "metadata": {},
     "output_type": "execute_result"
    }
   ],
   "source": [
    "bentoml.sklearn"
   ]
  },
  {
   "cell_type": "code",
   "execution_count": 12,
   "metadata": {},
   "outputs": [
    {
     "data": {
      "text/plain": [
       "Model(tag=\"heart_failure_prediction:mbqutls6hk5j433s\", path=\"/home/arundac23/bentoml/models/heart_failure_prediction/mbqutls6hk5j433s/\")"
      ]
     },
     "execution_count": 12,
     "metadata": {},
     "output_type": "execute_result"
    }
   ],
   "source": [
    "bentoml.sklearn.save_model(\n",
    "    'heart_failure_prediction',\n",
    "    model,\n",
    "    custom_objects={\n",
    "        'dictVectorizer': dv\n",
    "    })"
   ]
  },
  {
   "cell_type": "code",
   "execution_count": 13,
   "metadata": {},
   "outputs": [],
   "source": [
    "import json"
   ]
  },
  {
   "cell_type": "code",
   "execution_count": 14,
   "metadata": {},
   "outputs": [
    {
     "name": "stdout",
     "output_type": "stream",
     "text": [
      "{\n",
      "  \"age\": 41,\n",
      "  \"sex\": \"M\",\n",
      "  \"chest_pain_type\": \"ASY\",\n",
      "  \"resting_bp_s\": 110,\n",
      "  \"cholesterol\": 289,\n",
      "  \"fasting_blood_sugar\": \"0\",\n",
      "  \"resting_ecg\": \"Normal\",\n",
      "  \"max_heart_rate\": 170,\n",
      "  \"exercise_angina\": \"No\",\n",
      "  \"oldpeak\": 0.0,\n",
      "  \"st_slope\": \"Flat\"\n",
      "}\n"
     ]
    }
   ],
   "source": [
    "request = df_test.iloc[0].to_dict()\n",
    "print(json.dumps(request, indent=2))"
   ]
  },
  {
   "cell_type": "code",
   "execution_count": null,
   "metadata": {},
   "outputs": [],
   "source": []
  }
 ],
 "metadata": {
  "kernelspec": {
   "display_name": "Python 3 (ipykernel)",
   "language": "python",
   "name": "python3"
  },
  "language_info": {
   "codemirror_mode": {
    "name": "ipython",
    "version": 3
   },
   "file_extension": ".py",
   "mimetype": "text/x-python",
   "name": "python",
   "nbconvert_exporter": "python",
   "pygments_lexer": "ipython3",
   "version": "3.10.6"
  },
  "vscode": {
   "interpreter": {
    "hash": "f57f2bf5ed9088112bc57b7a939469b134f8c70dfbae08ae2d432707ee742386"
   }
  }
 },
 "nbformat": 4,
 "nbformat_minor": 2
}
