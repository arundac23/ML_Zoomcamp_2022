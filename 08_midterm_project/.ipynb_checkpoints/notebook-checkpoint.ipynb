{
 "cells": [
  {
   "cell_type": "markdown",
   "id": "7b776810",
   "metadata": {},
   "source": [
    "# Heart Failure Prediction\n",
    "`The goal is to predict heart failure rate of the patients based the available features.` "
   ]
  },
  {
   "cell_type": "markdown",
   "id": "0ec01983",
   "metadata": {},
   "source": [
    "## Midterm project- 2022 ML zoomcamp"
   ]
  },
  {
   "cell_type": "markdown",
   "id": "f92e13bd",
   "metadata": {},
   "source": [
    "`data location:` [Heart failure data](https://www.openml.org/search?type=data&status=active&id=43682)"
   ]
  },
  {
   "cell_type": "markdown",
   "id": "b062b8a0",
   "metadata": {},
   "source": [
    "### Description about dataset\n",
    "Context Heart Disease Dataset (Most comprehensive) Content Heart disease is also known as Cardiovascular diseases (CVDs) are the number 1 cause of death globally, taking an estimated 17.9 million lives each year which is about 32 of all deaths globally. CVDs are a group of disorders of the heart and blood vessels and include coronary heart disease, cerebrovascular disease, rheumatic heart disease, and other conditions. Four out of 5CVD deaths are due to heart attacks and strokes, and one-third of these deaths occur prematurely in people under 70 years of age. We have curated this dataset by combining different datasets already available independently but not combined before. W have combined them over 11 common features which makes it the largest heart disease dataset available for research purposes. The five datasets used for its curation are: Database: of instances:\n",
    "\n",
    "Cleveland: 303 Hungarian: 294 Switzerland: 123 Long Beach VA: 200 Stalog (Heart) Data Set: 270\n",
    "\n",
    "Total 1190 Acknowledgements The dataset is taken from three other research datasets used in different research papers. The Nature article listing heart disease database and names of popular datasets used in various heart disease research is shared below. https://www.nature.com/articles/s41597-019-0206-3 Inspiration Can you find interesting insight from the largest heart disease dataset available so far and build predictive model which can assist medical practitioners in detecting early-stage heart disease\n",
    "\n",
    "### Attribute Information\n",
    "\n",
    "| Variable | Description | Metrics   |\n",
    ":---        |    :----:   |            ---:|\n",
    "| Age | age of the patient | years |\n",
    "| Sex | sex of the patient | M = Male,F = Female |\n",
    "| ChestPainType | TA = Typical Angina, ATA = Atypical Angina, NAP = Non-Anginal Pain, ASY = Asymptomatic | NA |\n",
    "| RestingBP | resting blood pressure | mm Hg |\n",
    "| Cholesterol | serum cholesterol | mm/dl |\n",
    "| FastingBS | fasting blood sugar\t`1 = if FastingBS > 120 mg/dl`, `0 = otherwise` | mg/dl |\n",
    "|RestingECG | resting electrocardiogram results\tNormal = Normal, ST = having ST-T wave abnormality (T wave inversions and/or ST elevation or depression of > 0.05 mV), LVH = showing probable or definite left ventricular hypertrophy by Estes' criteria|NA|\n",
    "|MaxHR|\tmaximum heart rate achieved\tNumeric value between 60 and 202\n",
    "|ExerciseAngina|\texercise-induced angina\tY = Yes, N = No|NA|\n",
    "|Oldpeak|\tOldpeak = ST\tNumeric value measured in depression|NA|\n",
    "|ST_Slope|\tthe slope of the peak exercise ST segment\tUp = upsloping, Flat = flat, Down = downsloping|NA|\n",
    "\n",
    "### Target variable\n",
    "\n",
    "`HeartDisease`\toutput class : 1 = heart disease, 0 = Normal"
   ]
  },
  {
   "cell_type": "code",
   "execution_count": 1,
   "id": "35591991",
   "metadata": {},
   "outputs": [
    {
     "name": "stderr",
     "output_type": "stream",
     "text": [
      "C:\\Users\\460484\\Anaconda3\\lib\\site-packages\\xgboost\\compat.py:36: FutureWarning: pandas.Int64Index is deprecated and will be removed from pandas in a future version. Use pandas.Index with the appropriate dtype instead.\n",
      "  from pandas import MultiIndex, Int64Index\n"
     ]
    }
   ],
   "source": [
    "import numpy as np\n",
    "import pandas as pd\n",
    "import matplotlib.pyplot as plt\n",
    "import seaborn as sns\n",
    "%matplotlib inline\n",
    "from IPython.display import display\n",
    "from sklearn.model_selection import train_test_split\n",
    "from sklearn.metrics import mutual_info_score\n",
    "from sklearn.feature_selection import mutual_info_classif\n",
    "from sklearn.feature_extraction import DictVectorizer\n",
    "from sklearn.linear_model import LogisticRegression\n",
    "from xgboost import XGBClassifier\n",
    "from sklearn.metrics import classification_report,accuracy_score,confusion_matrix\n",
    "from sklearn.metrics import auc,roc_auc_score,roc_curve,precision_score,recall_score,f1_score\n",
    "from tqdm.auto import tqdm\n",
    "from sklearn.model_selection import KFold\n",
    "from sklearn.tree import DecisionTreeClassifier\n",
    "from sklearn import tree\n",
    "from sklearn.tree import export_text\n",
    "from sklearn.ensemble import RandomForestClassifier\n",
    "from sklearn.ensemble import ExtraTreesClassifier\n",
    "import xgboost as xgb"
   ]
  },
  {
   "cell_type": "code",
   "execution_count": 2,
   "id": "a8336f29",
   "metadata": {},
   "outputs": [],
   "source": [
    "df = pd.read_csv(\"heart.csv\")"
   ]
  },
  {
   "cell_type": "code",
   "execution_count": 3,
   "id": "b76d8f76",
   "metadata": {},
   "outputs": [
    {
     "data": {
      "text/html": [
       "<div>\n",
       "<style scoped>\n",
       "    .dataframe tbody tr th:only-of-type {\n",
       "        vertical-align: middle;\n",
       "    }\n",
       "\n",
       "    .dataframe tbody tr th {\n",
       "        vertical-align: top;\n",
       "    }\n",
       "\n",
       "    .dataframe thead th {\n",
       "        text-align: right;\n",
       "    }\n",
       "</style>\n",
       "<table border=\"1\" class=\"dataframe\">\n",
       "  <thead>\n",
       "    <tr style=\"text-align: right;\">\n",
       "      <th></th>\n",
       "      <th>age</th>\n",
       "      <th>sex</th>\n",
       "      <th>chest_pain_type</th>\n",
       "      <th>resting_bp_s</th>\n",
       "      <th>cholesterol</th>\n",
       "      <th>fasting_blood_sugar</th>\n",
       "      <th>resting_ecg</th>\n",
       "      <th>max_heart_rate</th>\n",
       "      <th>exercise_angina</th>\n",
       "      <th>oldpeak</th>\n",
       "      <th>ST_slope</th>\n",
       "      <th>heart_diesease</th>\n",
       "    </tr>\n",
       "  </thead>\n",
       "  <tbody>\n",
       "    <tr>\n",
       "      <th>0</th>\n",
       "      <td>40</td>\n",
       "      <td>1</td>\n",
       "      <td>ATA</td>\n",
       "      <td>140</td>\n",
       "      <td>289</td>\n",
       "      <td>0</td>\n",
       "      <td>0</td>\n",
       "      <td>172</td>\n",
       "      <td>0</td>\n",
       "      <td>0.0</td>\n",
       "      <td>1</td>\n",
       "      <td>0</td>\n",
       "    </tr>\n",
       "    <tr>\n",
       "      <th>1</th>\n",
       "      <td>49</td>\n",
       "      <td>0</td>\n",
       "      <td>NAP</td>\n",
       "      <td>160</td>\n",
       "      <td>180</td>\n",
       "      <td>0</td>\n",
       "      <td>0</td>\n",
       "      <td>156</td>\n",
       "      <td>0</td>\n",
       "      <td>1.0</td>\n",
       "      <td>2</td>\n",
       "      <td>1</td>\n",
       "    </tr>\n",
       "    <tr>\n",
       "      <th>2</th>\n",
       "      <td>37</td>\n",
       "      <td>1</td>\n",
       "      <td>ATA</td>\n",
       "      <td>130</td>\n",
       "      <td>283</td>\n",
       "      <td>0</td>\n",
       "      <td>1</td>\n",
       "      <td>98</td>\n",
       "      <td>0</td>\n",
       "      <td>0.0</td>\n",
       "      <td>1</td>\n",
       "      <td>0</td>\n",
       "    </tr>\n",
       "    <tr>\n",
       "      <th>3</th>\n",
       "      <td>48</td>\n",
       "      <td>0</td>\n",
       "      <td>ASY</td>\n",
       "      <td>138</td>\n",
       "      <td>214</td>\n",
       "      <td>0</td>\n",
       "      <td>0</td>\n",
       "      <td>108</td>\n",
       "      <td>1</td>\n",
       "      <td>1.5</td>\n",
       "      <td>2</td>\n",
       "      <td>1</td>\n",
       "    </tr>\n",
       "    <tr>\n",
       "      <th>4</th>\n",
       "      <td>54</td>\n",
       "      <td>1</td>\n",
       "      <td>NAP</td>\n",
       "      <td>150</td>\n",
       "      <td>195</td>\n",
       "      <td>0</td>\n",
       "      <td>0</td>\n",
       "      <td>122</td>\n",
       "      <td>0</td>\n",
       "      <td>0.0</td>\n",
       "      <td>1</td>\n",
       "      <td>0</td>\n",
       "    </tr>\n",
       "    <tr>\n",
       "      <th>5</th>\n",
       "      <td>39</td>\n",
       "      <td>1</td>\n",
       "      <td>NAP</td>\n",
       "      <td>120</td>\n",
       "      <td>339</td>\n",
       "      <td>0</td>\n",
       "      <td>0</td>\n",
       "      <td>170</td>\n",
       "      <td>0</td>\n",
       "      <td>0.0</td>\n",
       "      <td>1</td>\n",
       "      <td>0</td>\n",
       "    </tr>\n",
       "    <tr>\n",
       "      <th>6</th>\n",
       "      <td>45</td>\n",
       "      <td>0</td>\n",
       "      <td>ATA</td>\n",
       "      <td>130</td>\n",
       "      <td>237</td>\n",
       "      <td>0</td>\n",
       "      <td>0</td>\n",
       "      <td>170</td>\n",
       "      <td>0</td>\n",
       "      <td>0.0</td>\n",
       "      <td>1</td>\n",
       "      <td>0</td>\n",
       "    </tr>\n",
       "    <tr>\n",
       "      <th>7</th>\n",
       "      <td>54</td>\n",
       "      <td>1</td>\n",
       "      <td>ATA</td>\n",
       "      <td>110</td>\n",
       "      <td>208</td>\n",
       "      <td>0</td>\n",
       "      <td>0</td>\n",
       "      <td>142</td>\n",
       "      <td>0</td>\n",
       "      <td>0.0</td>\n",
       "      <td>1</td>\n",
       "      <td>0</td>\n",
       "    </tr>\n",
       "    <tr>\n",
       "      <th>8</th>\n",
       "      <td>37</td>\n",
       "      <td>1</td>\n",
       "      <td>ASY</td>\n",
       "      <td>140</td>\n",
       "      <td>207</td>\n",
       "      <td>0</td>\n",
       "      <td>0</td>\n",
       "      <td>130</td>\n",
       "      <td>1</td>\n",
       "      <td>1.5</td>\n",
       "      <td>2</td>\n",
       "      <td>1</td>\n",
       "    </tr>\n",
       "    <tr>\n",
       "      <th>9</th>\n",
       "      <td>48</td>\n",
       "      <td>0</td>\n",
       "      <td>ATA</td>\n",
       "      <td>120</td>\n",
       "      <td>284</td>\n",
       "      <td>0</td>\n",
       "      <td>0</td>\n",
       "      <td>120</td>\n",
       "      <td>0</td>\n",
       "      <td>0.0</td>\n",
       "      <td>1</td>\n",
       "      <td>0</td>\n",
       "    </tr>\n",
       "  </tbody>\n",
       "</table>\n",
       "</div>"
      ],
      "text/plain": [
       "   age  sex chest_pain_type  resting_bp_s  cholesterol  fasting_blood_sugar  \\\n",
       "0   40    1             ATA           140          289                    0   \n",
       "1   49    0             NAP           160          180                    0   \n",
       "2   37    1             ATA           130          283                    0   \n",
       "3   48    0             ASY           138          214                    0   \n",
       "4   54    1             NAP           150          195                    0   \n",
       "5   39    1             NAP           120          339                    0   \n",
       "6   45    0             ATA           130          237                    0   \n",
       "7   54    1             ATA           110          208                    0   \n",
       "8   37    1             ASY           140          207                    0   \n",
       "9   48    0             ATA           120          284                    0   \n",
       "\n",
       "   resting_ecg  max_heart_rate  exercise_angina  oldpeak  ST_slope  \\\n",
       "0            0             172                0      0.0         1   \n",
       "1            0             156                0      1.0         2   \n",
       "2            1              98                0      0.0         1   \n",
       "3            0             108                1      1.5         2   \n",
       "4            0             122                0      0.0         1   \n",
       "5            0             170                0      0.0         1   \n",
       "6            0             170                0      0.0         1   \n",
       "7            0             142                0      0.0         1   \n",
       "8            0             130                1      1.5         2   \n",
       "9            0             120                0      0.0         1   \n",
       "\n",
       "   heart_diesease  \n",
       "0               0  \n",
       "1               1  \n",
       "2               0  \n",
       "3               1  \n",
       "4               0  \n",
       "5               0  \n",
       "6               0  \n",
       "7               0  \n",
       "8               1  \n",
       "9               0  "
      ]
     },
     "execution_count": 3,
     "metadata": {},
     "output_type": "execute_result"
    }
   ],
   "source": [
    "df.head(10)"
   ]
  },
  {
   "cell_type": "markdown",
   "id": "8e4c9425",
   "metadata": {},
   "source": [
    "### Categorical variables are represented by numbers.Lets convert them into strings as categorial variables"
   ]
  },
  {
   "cell_type": "code",
   "execution_count": 4,
   "id": "3707174e",
   "metadata": {},
   "outputs": [],
   "source": [
    "sex_values = {\n",
    "    1: 'M',\n",
    "    0: 'F',\n",
    "}\n",
    "df.sex = df.sex.map(sex_values)\n",
    "\n",
    "fasting_blood_sugar_values = {\n",
    "    0: '0',\n",
    "    1: '1',\n",
    "}\n",
    "df.fasting_blood_sugar = df.fasting_blood_sugar.map(fasting_blood_sugar_values)\n",
    "\n",
    "resting_ecg_values = {\n",
    "    0: 'Normal',\n",
    "    1: 'ST',\n",
    "    2: 'LVH'\n",
    "}\n",
    "df.resting_ecg = df.resting_ecg.map(resting_ecg_values)\n",
    "\n",
    "exercise_angina_values = {\n",
    "    0: 'No',\n",
    "    1: 'Yes'\n",
    "}\n",
    "df.exercise_angina = df.exercise_angina.map(exercise_angina_values)\n",
    "ST_slope_values = {\n",
    "    1: 'Up',\n",
    "    2: 'Flat',\n",
    "    3: 'Down'\n",
    "}\n",
    "df.ST_slope = df.ST_slope.map(ST_slope_values)\n"
   ]
  },
  {
   "cell_type": "code",
   "execution_count": 5,
   "id": "eae8fca2",
   "metadata": {},
   "outputs": [],
   "source": [
    "df.columns = df.columns.str.lower()\n",
    "categorical = list(df.dtypes[df.dtypes == 'object'].index)"
   ]
  },
  {
   "cell_type": "code",
   "execution_count": 6,
   "id": "59a30d2a",
   "metadata": {},
   "outputs": [
    {
     "data": {
      "text/plain": [
       "['sex',\n",
       " 'chest_pain_type',\n",
       " 'fasting_blood_sugar',\n",
       " 'resting_ecg',\n",
       " 'exercise_angina',\n",
       " 'st_slope']"
      ]
     },
     "execution_count": 6,
     "metadata": {},
     "output_type": "execute_result"
    }
   ],
   "source": [
    "categorical"
   ]
  },
  {
   "cell_type": "code",
   "execution_count": 7,
   "id": "99cb71b8",
   "metadata": {},
   "outputs": [
    {
     "name": "stdout",
     "output_type": "stream",
     "text": [
      "<class 'pandas.core.frame.DataFrame'>\n",
      "RangeIndex: 1190 entries, 0 to 1189\n",
      "Data columns (total 12 columns):\n",
      " #   Column               Non-Null Count  Dtype  \n",
      "---  ------               --------------  -----  \n",
      " 0   age                  1190 non-null   int64  \n",
      " 1   sex                  1190 non-null   object \n",
      " 2   chest_pain_type      1190 non-null   object \n",
      " 3   resting_bp_s         1190 non-null   int64  \n",
      " 4   cholesterol          1190 non-null   int64  \n",
      " 5   fasting_blood_sugar  1190 non-null   object \n",
      " 6   resting_ecg          1190 non-null   object \n",
      " 7   max_heart_rate       1190 non-null   int64  \n",
      " 8   exercise_angina      1190 non-null   object \n",
      " 9   oldpeak              1190 non-null   float64\n",
      " 10  st_slope             1189 non-null   object \n",
      " 11  heart_diesease       1190 non-null   int64  \n",
      "dtypes: float64(1), int64(5), object(6)\n",
      "memory usage: 111.7+ KB\n"
     ]
    }
   ],
   "source": [
    "df.info()"
   ]
  },
  {
   "cell_type": "markdown",
   "id": "5aea846a",
   "metadata": {},
   "source": [
    "### Perform the train/validation/test split with Scikit-Learn"
   ]
  },
  {
   "cell_type": "code",
   "execution_count": 8,
   "id": "e4d2a63a",
   "metadata": {},
   "outputs": [],
   "source": [
    "df_full_train, df_test = train_test_split(df, test_size=0.2, random_state=1)\n",
    "df_train, df_val = train_test_split(df_full_train, test_size=0.25, random_state=1)"
   ]
  },
  {
   "cell_type": "code",
   "execution_count": 9,
   "id": "d9fbb42c",
   "metadata": {},
   "outputs": [
    {
     "data": {
      "text/plain": [
       "(714, 238, 238)"
      ]
     },
     "execution_count": 9,
     "metadata": {},
     "output_type": "execute_result"
    }
   ],
   "source": [
    "len(df_train), len(df_val), len(df_test)"
   ]
  },
  {
   "cell_type": "code",
   "execution_count": 10,
   "id": "0c6e253b",
   "metadata": {},
   "outputs": [],
   "source": [
    "df_train = df_train.reset_index(drop=True)\n",
    "df_val = df_val.reset_index(drop=True)\n",
    "df_test = df_test.reset_index(drop=True)"
   ]
  },
  {
   "cell_type": "code",
   "execution_count": 11,
   "id": "cc608685",
   "metadata": {},
   "outputs": [],
   "source": [
    "y_train = df_train.heart_diesease.values\n",
    "y_val = df_val.heart_diesease.values\n",
    "y_test = df_test.heart_diesease.values\n",
    "\n",
    "del df_train['heart_diesease']\n",
    "del df_val['heart_diesease']\n",
    "del df_test['heart_diesease']"
   ]
  },
  {
   "cell_type": "markdown",
   "id": "3df852a9",
   "metadata": {},
   "source": [
    "# EDA\n",
    "* Filling the missing values\n",
    "* Feature Importance"
   ]
  },
  {
   "cell_type": "code",
   "execution_count": 12,
   "id": "ae5ab232",
   "metadata": {},
   "outputs": [],
   "source": [
    "df_full_train = df_full_train.fillna('Down')"
   ]
  },
  {
   "cell_type": "code",
   "execution_count": 13,
   "id": "f5adb202",
   "metadata": {},
   "outputs": [
    {
     "data": {
      "text/plain": [
       "age                    0\n",
       "sex                    0\n",
       "chest_pain_type        0\n",
       "resting_bp_s           0\n",
       "cholesterol            0\n",
       "fasting_blood_sugar    0\n",
       "resting_ecg            0\n",
       "max_heart_rate         0\n",
       "exercise_angina        0\n",
       "oldpeak                0\n",
       "st_slope               0\n",
       "heart_diesease         0\n",
       "dtype: int64"
      ]
     },
     "execution_count": 13,
     "metadata": {},
     "output_type": "execute_result"
    }
   ],
   "source": [
    "df_full_train.isnull().sum()"
   ]
  },
  {
   "cell_type": "code",
   "execution_count": 14,
   "id": "53b175d5",
   "metadata": {},
   "outputs": [
    {
     "data": {
      "text/plain": [
       "1    0.527311\n",
       "0    0.472689\n",
       "Name: heart_diesease, dtype: float64"
      ]
     },
     "execution_count": 14,
     "metadata": {},
     "output_type": "execute_result"
    }
   ],
   "source": [
    "df_full_train.heart_diesease.value_counts(normalize=True)"
   ]
  },
  {
   "cell_type": "code",
   "execution_count": 15,
   "id": "d00d30aa",
   "metadata": {},
   "outputs": [
    {
     "data": {
      "text/html": [
       "<div>\n",
       "<style scoped>\n",
       "    .dataframe tbody tr th:only-of-type {\n",
       "        vertical-align: middle;\n",
       "    }\n",
       "\n",
       "    .dataframe tbody tr th {\n",
       "        vertical-align: top;\n",
       "    }\n",
       "\n",
       "    .dataframe thead th {\n",
       "        text-align: right;\n",
       "    }\n",
       "</style>\n",
       "<table border=\"1\" class=\"dataframe\">\n",
       "  <thead>\n",
       "    <tr style=\"text-align: right;\">\n",
       "      <th></th>\n",
       "      <th>age</th>\n",
       "      <th>sex</th>\n",
       "      <th>chest_pain_type</th>\n",
       "      <th>resting_bp_s</th>\n",
       "      <th>cholesterol</th>\n",
       "      <th>fasting_blood_sugar</th>\n",
       "      <th>resting_ecg</th>\n",
       "      <th>max_heart_rate</th>\n",
       "      <th>exercise_angina</th>\n",
       "      <th>oldpeak</th>\n",
       "      <th>st_slope</th>\n",
       "      <th>heart_diesease</th>\n",
       "    </tr>\n",
       "  </thead>\n",
       "  <tbody>\n",
       "    <tr>\n",
       "      <th>0</th>\n",
       "      <td>54</td>\n",
       "      <td>M</td>\n",
       "      <td>ASY</td>\n",
       "      <td>120</td>\n",
       "      <td>0</td>\n",
       "      <td>0</td>\n",
       "      <td>Normal</td>\n",
       "      <td>140</td>\n",
       "      <td>No</td>\n",
       "      <td>0.0</td>\n",
       "      <td>Flat</td>\n",
       "      <td>1</td>\n",
       "    </tr>\n",
       "  </tbody>\n",
       "</table>\n",
       "</div>"
      ],
      "text/plain": [
       "   age sex chest_pain_type  resting_bp_s  cholesterol fasting_blood_sugar  \\\n",
       "0   54   M             ASY           120            0                   0   \n",
       "\n",
       "  resting_ecg  max_heart_rate exercise_angina  oldpeak st_slope  \\\n",
       "0      Normal             140              No      0.0     Flat   \n",
       "\n",
       "   heart_diesease  \n",
       "0               1  "
      ]
     },
     "execution_count": 15,
     "metadata": {},
     "output_type": "execute_result"
    }
   ],
   "source": [
    "df_full_train.mode()"
   ]
  },
  {
   "cell_type": "code",
   "execution_count": 16,
   "id": "c7562754",
   "metadata": {},
   "outputs": [
    {
     "data": {
      "text/plain": [
       "Index(['age', 'sex', 'chest_pain_type', 'resting_bp_s', 'cholesterol',\n",
       "       'fasting_blood_sugar', 'resting_ecg', 'max_heart_rate',\n",
       "       'exercise_angina', 'oldpeak', 'st_slope', 'heart_diesease'],\n",
       "      dtype='object')"
      ]
     },
     "execution_count": 16,
     "metadata": {},
     "output_type": "execute_result"
    }
   ],
   "source": [
    "df.columns"
   ]
  },
  {
   "cell_type": "code",
   "execution_count": 17,
   "id": "e364f143",
   "metadata": {},
   "outputs": [
    {
     "data": {
      "text/plain": [
       "['age', 'resting_bp_s', 'cholesterol', 'max_heart_rate', 'oldpeak']"
      ]
     },
     "execution_count": 17,
     "metadata": {},
     "output_type": "execute_result"
    }
   ],
   "source": [
    "numerical = ['age', 'resting_bp_s', 'cholesterol','max_heart_rate','oldpeak']\n",
    "numerical"
   ]
  },
  {
   "cell_type": "code",
   "execution_count": 18,
   "id": "a5bdb942",
   "metadata": {},
   "outputs": [
    {
     "data": {
      "text/plain": [
       "['sex',\n",
       " 'chest_pain_type',\n",
       " 'fasting_blood_sugar',\n",
       " 'resting_ecg',\n",
       " 'exercise_angina',\n",
       " 'st_slope']"
      ]
     },
     "execution_count": 18,
     "metadata": {},
     "output_type": "execute_result"
    }
   ],
   "source": [
    "categorical"
   ]
  },
  {
   "cell_type": "markdown",
   "id": "dc24031c",
   "metadata": {},
   "source": [
    "### Feature importance of categorical variable: Mutual information\n",
    "\n",
    "Mutual information - concept from information theory, it tells us how much \n",
    "we can learn about one variable if we know the value of another\n",
    "\n",
    "* https://en.wikipedia.org/wiki/Mutual_information"
   ]
  },
  {
   "cell_type": "code",
   "execution_count": 19,
   "id": "9a0688f7",
   "metadata": {},
   "outputs": [],
   "source": [
    "def mutual_info_hf_score(series):\n",
    "    return mutual_info_score(series, df_full_train.heart_diesease)"
   ]
  },
  {
   "cell_type": "code",
   "execution_count": 20,
   "id": "ea0a6a31",
   "metadata": {},
   "outputs": [
    {
     "data": {
      "text/plain": [
       "st_slope               0.172517\n",
       "chest_pain_type        0.140710\n",
       "exercise_angina        0.121613\n",
       "sex                    0.049367\n",
       "fasting_blood_sugar    0.018334\n",
       "resting_ecg            0.007952\n",
       "dtype: float64"
      ]
     },
     "execution_count": 20,
     "metadata": {},
     "output_type": "execute_result"
    }
   ],
   "source": [
    "mutual_information = df_full_train[categorical].apply(mutual_info_hf_score)\n",
    "mutual_information.sort_values(ascending=False)"
   ]
  },
  {
   "cell_type": "code",
   "execution_count": 21,
   "id": "38519603",
   "metadata": {},
   "outputs": [
    {
     "data": {
      "text/plain": [
       "<AxesSubplot:>"
      ]
     },
     "execution_count": 21,
     "metadata": {},
     "output_type": "execute_result"
    },
    {
     "data": {
      "image/png": "[encoded data removed]",
      "text/plain": [
       "<Figure size 432x288 with 1 Axes>"
      ]
     },
     "metadata": {
      "needs_background": "light"
     },
     "output_type": "display_data"
    }
   ],
   "source": [
    "mutual_information.plot(kind = 'barh', color = 'green')"
   ]
  },
  {
   "cell_type": "markdown",
   "id": "71e9964d",
   "metadata": {},
   "source": [
    "* Based on mutual information score, heart failure rate is highly depends on st_slope, chest_pain_type and exercise_angina"
   ]
  },
  {
   "cell_type": "markdown",
   "id": "dd04f135",
   "metadata": {},
   "source": [
    "### Feature importance of numerical variable: Correlation coefficient\n",
    "* Correlation coefficient - https://en.wikipedia.org/wiki/Pearson_correlation_coefficient"
   ]
  },
  {
   "cell_type": "code",
   "execution_count": 22,
   "id": "946876b2",
   "metadata": {},
   "outputs": [
    {
     "data": {
      "text/plain": [
       "max_heart_rate    0.428670\n",
       "oldpeak           0.404741\n",
       "age               0.263758\n",
       "cholesterol       0.190729\n",
       "resting_bp_s      0.127691\n",
       "dtype: float64"
      ]
     },
     "execution_count": 22,
     "metadata": {},
     "output_type": "execute_result"
    }
   ],
   "source": [
    "corr_coefficient = df_full_train[numerical].corrwith(df_full_train.heart_diesease).abs()\n",
    "corr_coefficient.sort_values(ascending=False)"
   ]
  },
  {
   "cell_type": "code",
   "execution_count": 23,
   "id": "8a748131",
   "metadata": {},
   "outputs": [
    {
     "data": {
      "text/html": [
       "<div>\n",
       "<style scoped>\n",
       "    .dataframe tbody tr th:only-of-type {\n",
       "        vertical-align: middle;\n",
       "    }\n",
       "\n",
       "    .dataframe tbody tr th {\n",
       "        vertical-align: top;\n",
       "    }\n",
       "\n",
       "    .dataframe thead th {\n",
       "        text-align: right;\n",
       "    }\n",
       "</style>\n",
       "<table border=\"1\" class=\"dataframe\">\n",
       "  <thead>\n",
       "    <tr style=\"text-align: right;\">\n",
       "      <th></th>\n",
       "      <th>age</th>\n",
       "      <th>resting_bp_s</th>\n",
       "      <th>cholesterol</th>\n",
       "      <th>max_heart_rate</th>\n",
       "      <th>oldpeak</th>\n",
       "      <th>heart_diesease</th>\n",
       "    </tr>\n",
       "  </thead>\n",
       "  <tbody>\n",
       "    <tr>\n",
       "      <th>age</th>\n",
       "      <td>1.000000</td>\n",
       "      <td>0.249151</td>\n",
       "      <td>-0.049688</td>\n",
       "      <td>-0.355585</td>\n",
       "      <td>0.235655</td>\n",
       "      <td>0.263758</td>\n",
       "    </tr>\n",
       "    <tr>\n",
       "      <th>resting_bp_s</th>\n",
       "      <td>0.249151</td>\n",
       "      <td>1.000000</td>\n",
       "      <td>0.092744</td>\n",
       "      <td>-0.099931</td>\n",
       "      <td>0.133356</td>\n",
       "      <td>0.127691</td>\n",
       "    </tr>\n",
       "    <tr>\n",
       "      <th>cholesterol</th>\n",
       "      <td>-0.049688</td>\n",
       "      <td>0.092744</td>\n",
       "      <td>1.000000</td>\n",
       "      <td>0.241490</td>\n",
       "      <td>0.056551</td>\n",
       "      <td>-0.190729</td>\n",
       "    </tr>\n",
       "    <tr>\n",
       "      <th>max_heart_rate</th>\n",
       "      <td>-0.355585</td>\n",
       "      <td>-0.099931</td>\n",
       "      <td>0.241490</td>\n",
       "      <td>1.000000</td>\n",
       "      <td>-0.181841</td>\n",
       "      <td>-0.428670</td>\n",
       "    </tr>\n",
       "    <tr>\n",
       "      <th>oldpeak</th>\n",
       "      <td>0.235655</td>\n",
       "      <td>0.133356</td>\n",
       "      <td>0.056551</td>\n",
       "      <td>-0.181841</td>\n",
       "      <td>1.000000</td>\n",
       "      <td>0.404741</td>\n",
       "    </tr>\n",
       "    <tr>\n",
       "      <th>heart_diesease</th>\n",
       "      <td>0.263758</td>\n",
       "      <td>0.127691</td>\n",
       "      <td>-0.190729</td>\n",
       "      <td>-0.428670</td>\n",
       "      <td>0.404741</td>\n",
       "      <td>1.000000</td>\n",
       "    </tr>\n",
       "  </tbody>\n",
       "</table>\n",
       "</div>"
      ],
      "text/plain": [
       "                     age  resting_bp_s  cholesterol  max_heart_rate   oldpeak  \\\n",
       "age             1.000000      0.249151    -0.049688       -0.355585  0.235655   \n",
       "resting_bp_s    0.249151      1.000000     0.092744       -0.099931  0.133356   \n",
       "cholesterol    -0.049688      0.092744     1.000000        0.241490  0.056551   \n",
       "max_heart_rate -0.355585     -0.099931     0.241490        1.000000 -0.181841   \n",
       "oldpeak         0.235655      0.133356     0.056551       -0.181841  1.000000   \n",
       "heart_diesease  0.263758      0.127691    -0.190729       -0.428670  0.404741   \n",
       "\n",
       "                heart_diesease  \n",
       "age                   0.263758  \n",
       "resting_bp_s          0.127691  \n",
       "cholesterol          -0.190729  \n",
       "max_heart_rate       -0.428670  \n",
       "oldpeak               0.404741  \n",
       "heart_diesease        1.000000  "
      ]
     },
     "execution_count": 23,
     "metadata": {},
     "output_type": "execute_result"
    }
   ],
   "source": [
    "corr_matrix = df_full_train.corr()\n",
    "corr_matrix"
   ]
  },
  {
   "cell_type": "code",
   "execution_count": 24,
   "id": "d2477e41",
   "metadata": {},
   "outputs": [
    {
     "data": {
      "image/png": "[encoded data removed]",
      "text/plain": [
       "<Figure size 1152x360 with 2 Axes>"
      ]
     },
     "metadata": {},
     "output_type": "display_data"
    }
   ],
   "source": [
    "sns.set(rc = {'figure.figsize':(16,5)})\n",
    "sns.heatmap(corr_matrix, annot=True)\n",
    "plt.show()"
   ]
  },
  {
   "cell_type": "markdown",
   "id": "86fee2fa",
   "metadata": {},
   "source": [
    "* `Age`,`oldpeak` and `max heart rate` are having strong correlation with heart disease."
   ]
  },
  {
   "cell_type": "code",
   "execution_count": 25,
   "id": "5e695005",
   "metadata": {},
   "outputs": [
    {
     "data": {
      "image/png": "[encoded data removed]",
      "text/plain": [
       "<Figure size 720x576 with 6 Axes>"
      ]
     },
     "metadata": {},
     "output_type": "display_data"
    }
   ],
   "source": [
    "fig = df_full_train[numerical].hist(figsize=(10,8))\n",
    "plt.tight_layout()\n",
    "plt.show()"
   ]
  },
  {
   "cell_type": "markdown",
   "id": "07da9021",
   "metadata": {},
   "source": [
    "## one-hot encoding"
   ]
  },
  {
   "cell_type": "code",
   "execution_count": 26,
   "id": "61274e2f",
   "metadata": {},
   "outputs": [],
   "source": [
    "dv = DictVectorizer(sparse=False)\n",
    "\n",
    "train_dict = df_train[categorical + numerical].to_dict(orient='records')\n",
    "X_train = dv.fit_transform(train_dict)\n",
    "\n",
    "val_dict = df_val[categorical + numerical].to_dict(orient='records')\n",
    "X_val = dv.transform(val_dict)\n",
    "\n",
    "test_dict = df_test.to_dict(orient='records')\n",
    "X_test = dv.transform(test_dict)"
   ]
  },
  {
   "cell_type": "markdown",
   "id": "62238f4e",
   "metadata": {},
   "source": [
    "### logistic regression\n",
    "Lets train our first model as logistic regression model."
   ]
  },
  {
   "cell_type": "code",
   "execution_count": 27,
   "id": "0a20494d",
   "metadata": {},
   "outputs": [
    {
     "name": "stdout",
     "output_type": "stream",
     "text": [
      "CPU times: total: 0 ns\n",
      "Wall time: 3.09 ms\n"
     ]
    },
    {
     "data": {
      "text/plain": [
       "LogisticRegression(max_iter=1000, random_state=42, solver='liblinear')"
      ]
     },
     "execution_count": 27,
     "metadata": {},
     "output_type": "execute_result"
    }
   ],
   "source": [
    "%%time\n",
    "model = LogisticRegression(solver=\"liblinear\", C=1.0, max_iter=1000, random_state=42)\n",
    "model.fit(X_train, y_train)"
   ]
  },
  {
   "cell_type": "code",
   "execution_count": 28,
   "id": "3675b9da",
   "metadata": {},
   "outputs": [],
   "source": [
    "y_pred = model.predict_proba(X_val)[:, 1]\n",
    "y_pred_p = model.predict(X_val)"
   ]
  },
  {
   "cell_type": "code",
   "execution_count": 29,
   "id": "8a704b74",
   "metadata": {},
   "outputs": [],
   "source": [
    "heart_failure_prediction = (y_pred >= 0.5)"
   ]
  },
  {
   "cell_type": "code",
   "execution_count": 30,
   "id": "bf078016",
   "metadata": {},
   "outputs": [],
   "source": [
    "Initial_accuracy_o = (y_val == heart_failure_prediction).mean()"
   ]
  },
  {
   "cell_type": "code",
   "execution_count": 31,
   "id": "4be77b29",
   "metadata": {},
   "outputs": [
    {
     "data": {
      "text/plain": [
       "0.8151260504201681"
      ]
     },
     "execution_count": 31,
     "metadata": {},
     "output_type": "execute_result"
    }
   ],
   "source": [
    "Initial_accuracy_o"
   ]
  },
  {
   "cell_type": "code",
   "execution_count": 32,
   "id": "1825dd12",
   "metadata": {},
   "outputs": [],
   "source": [
    "Initial_accuracy = round((y_val == heart_failure_prediction).mean(),2)"
   ]
  },
  {
   "cell_type": "markdown",
   "id": "3d30feb5",
   "metadata": {},
   "source": [
    "`Logistic regression has initial accuracy of 82%`"
   ]
  },
  {
   "cell_type": "code",
   "execution_count": 33,
   "id": "3a15623f",
   "metadata": {},
   "outputs": [
    {
     "data": {
      "text/plain": [
       "0.82"
      ]
     },
     "execution_count": 33,
     "metadata": {},
     "output_type": "execute_result"
    }
   ],
   "source": [
    "Initial_accuracy"
   ]
  },
  {
   "cell_type": "markdown",
   "id": "3200a681",
   "metadata": {},
   "source": [
    "### Small feature elimination\n",
    "`lets eliminate some insignificant feature to see how it affect the accuracy.`"
   ]
  },
  {
   "cell_type": "code",
   "execution_count": 34,
   "id": "e8791f59",
   "metadata": {},
   "outputs": [
    {
     "name": "stdout",
     "output_type": "stream",
     "text": [
      "Feature:resting_ecg has 0.0042 difference from original accuracy, with new accuracy of 0.8109\n",
      "Feature:fasting_blood_sugar has 0.0042 difference from original accuracy, with new accuracy of 0.8109\n",
      "Feature:sex has 0.01261 difference from original accuracy, with new accuracy of 0.8277\n"
     ]
    },
    {
     "name": "stderr",
     "output_type": "stream",
     "text": [
      "C:\\Users\\460484\\AppData\\Local\\Temp\\ipykernel_6164\\2353229573.py:3: FutureWarning: In a future version of pandas all arguments of DataFrame.drop except for the argument 'labels' will be keyword-only.\n",
      "  df_train_new = df_train[categorical + numerical].drop(feature,1)\n",
      "C:\\Users\\460484\\AppData\\Local\\Temp\\ipykernel_6164\\2353229573.py:3: FutureWarning: In a future version of pandas all arguments of DataFrame.drop except for the argument 'labels' will be keyword-only.\n",
      "  df_train_new = df_train[categorical + numerical].drop(feature,1)\n",
      "C:\\Users\\460484\\AppData\\Local\\Temp\\ipykernel_6164\\2353229573.py:3: FutureWarning: In a future version of pandas all arguments of DataFrame.drop except for the argument 'labels' will be keyword-only.\n",
      "  df_train_new = df_train[categorical + numerical].drop(feature,1)\n"
     ]
    }
   ],
   "source": [
    "small_features = ['resting_ecg','fasting_blood_sugar','sex']\n",
    "for feature in small_features:\n",
    "    df_train_new = df_train[categorical + numerical].drop(feature,1)\n",
    "    train_dict_new = df_train_new.to_dict(orient='records')\n",
    "    X_train_new = dv.fit_transform(train_dict_new)\n",
    "\n",
    "    df_val_new = df_val[categorical + numerical].drop(feature, axis = 1)\n",
    "    val_dict_new= df_val_new.to_dict(orient='records')\n",
    "    X_val_new = dv.transform(val_dict_new)\n",
    "    model = LogisticRegression(solver=\"liblinear\", C=1.0, max_iter=1000, random_state=42)\n",
    "    model.fit(X_train_new, y_train)\n",
    "    y_pred = model.predict_proba(X_val_new)[:, 1]\n",
    "    heart_failure = (y_pred >= 0.5)\n",
    "    new_model_accuracy = (y_val == heart_failure).mean()\n",
    "    print(f'Feature:{feature} has {round(abs((Initial_accuracy_o-new_model_accuracy)),5)} difference from original accuracy, with new accuracy of {round(new_model_accuracy,4)}')"
   ]
  },
  {
   "cell_type": "markdown",
   "id": "9b7806dc",
   "metadata": {},
   "source": [
    "` Accuracy metric alone is sometime misleading to confirm the performance of the model. Lets judgement the performance based on the evaluation metrics (AUC score)`"
   ]
  },
  {
   "cell_type": "code",
   "execution_count": 35,
   "id": "26bad82a",
   "metadata": {},
   "outputs": [],
   "source": [
    "def positive_rate(y_val,y_pred):\n",
    "    actual_positive = (y_val == 1)\n",
    "    actual_negative = (y_val == 0)\n",
    "    t = 0.5\n",
    "    predict_positive = (y_pred >= t)\n",
    "    predict_negative = (y_pred < t)\n",
    "    #calculating tp,tn,fp,fn\n",
    "    tp = (predict_positive & actual_positive).sum()\n",
    "    tn = (predict_negative & actual_negative).sum()\n",
    "    fp = (predict_positive & actual_negative).sum()\n",
    "    fn = (predict_negative & actual_positive).sum()\n",
    "    #calculating tpr,fpr scores\n",
    "    TPR_score = tp / (tp + fn)\n",
    "    FPR_score = fp / (fp + tn)\n",
    "    return TPR_score,FPR_score"
   ]
  },
  {
   "cell_type": "code",
   "execution_count": 36,
   "id": "2cf852a7",
   "metadata": {},
   "outputs": [],
   "source": [
    "tpr,fpr = positive_rate(y_val,y_pred)"
   ]
  },
  {
   "cell_type": "code",
   "execution_count": 37,
   "id": "71c00e07",
   "metadata": {},
   "outputs": [
    {
     "name": "stdout",
     "output_type": "stream",
     "text": [
      "accuracy score for Logistic reg: 0.8151260504201681\n",
      "Precision score for Logistic reg: 0.796875\n",
      "Recall score for Logistic reg: 0.85\n",
      "F1 score for Logistic reg: 0.8225806451612903\n",
      "Classification report for Logistic reg: \n",
      "              precision    recall  f1-score   support\n",
      "\n",
      "           0       0.84      0.78      0.81       118\n",
      "           1       0.80      0.85      0.82       120\n",
      "\n",
      "    accuracy                           0.82       238\n",
      "   macro avg       0.82      0.81      0.81       238\n",
      "weighted avg       0.82      0.82      0.81       238\n",
      "\n",
      "Confusion matrix for Logistic reg: \n",
      "[[ 92  26]\n",
      " [ 18 102]]\n",
      "\n",
      "Auc score for Logistic reg : 0.8866525423728814\n"
     ]
    },
    {
     "data": {
      "text/plain": [
       "<matplotlib.legend.Legend at 0x14bd4170b20>"
      ]
     },
     "execution_count": 37,
     "metadata": {},
     "output_type": "execute_result"
    },
    {
     "data": {
      "image/png": "[encoded data removed]",
      "text/plain": [
       "<Figure size 360x360 with 1 Axes>"
      ]
     },
     "metadata": {},
     "output_type": "display_data"
    }
   ],
   "source": [
    "print (\"accuracy score for Logistic reg: {}\".format(accuracy_score(y_val, y_pred_p)))\n",
    "print(\"Precision score for Logistic reg: {}\".format(precision_score(y_val,y_pred_p)))\n",
    "print(\"Recall score for Logistic reg: {}\".format(recall_score(y_val,y_pred_p)))\n",
    "print(\"F1 score for Logistic reg: {}\".format(f1_score(y_val,y_pred_p)))\n",
    "# print(f'TPR Score:{round(tpr,3)}')\n",
    "# print(f'FPR Score:{round(fpr,3)}')\n",
    "print(\"Classification report for Logistic reg: \\n{}\".format(classification_report(y_val, y_pred_p)))\n",
    "print(\"Confusion matrix for Logistic reg: \\n{}\".format(confusion_matrix(y_val, y_pred_p)))\n",
    "print()\n",
    "print(f'Auc score for Logistic reg : {roc_auc_score(y_val, y_pred)}')\n",
    "fpr, tpr, thresholds = roc_curve(y_val, y_pred)\n",
    "plt.figure(figsize=(5, 5))\n",
    "\n",
    "plt.plot(fpr, tpr, label='Logistic reg Model')\n",
    "plt.plot([0, 1], [0, 1], label='Random', linestyle='--')\n",
    "\n",
    "plt.xlabel('FPR')\n",
    "plt.ylabel('TPR')\n",
    "plt.title('ROC curve (LR-Model)')\n",
    "\n",
    "plt.legend()"
   ]
  },
  {
   "cell_type": "markdown",
   "id": "7c9a1e4e",
   "metadata": {},
   "source": [
    "## Cross-Validation"
   ]
  },
  {
   "cell_type": "code",
   "execution_count": 38,
   "id": "c0d70ce9",
   "metadata": {},
   "outputs": [],
   "source": [
    "def train(df_train, y_train, C=1.0):\n",
    "    dicts = df_train[categorical + numerical].to_dict(orient='records')\n",
    "\n",
    "    dv = DictVectorizer(sparse=False)\n",
    "    X_train = dv.fit_transform(dicts)\n",
    "\n",
    "    model = LogisticRegression(solver=\"liblinear\", C=C, max_iter=1000, random_state=42)\n",
    "    model.fit(X_train, y_train)\n",
    "    \n",
    "    return dv, model"
   ]
  },
  {
   "cell_type": "code",
   "execution_count": 39,
   "id": "5edd784f",
   "metadata": {},
   "outputs": [],
   "source": [
    "dv, model = train(df_train, y_train, C=0.001)"
   ]
  },
  {
   "cell_type": "code",
   "execution_count": 40,
   "id": "7a8a5761",
   "metadata": {},
   "outputs": [],
   "source": [
    "def predict(df, dv, model):\n",
    "    dicts = df[categorical + numerical].to_dict(orient='records')\n",
    "\n",
    "    X = dv.transform(dicts)\n",
    "    y_pred = model.predict_proba(X)[:, 1]\n",
    "\n",
    "    return y_pred"
   ]
  },
  {
   "cell_type": "code",
   "execution_count": 41,
   "id": "fde3b526",
   "metadata": {},
   "outputs": [],
   "source": [
    "y_pred = predict(df_val, dv, model)"
   ]
  },
  {
   "cell_type": "code",
   "execution_count": 42,
   "id": "9109c67e",
   "metadata": {},
   "outputs": [
    {
     "data": {
      "application/vnd.jupyter.widget-view+json": {
       "model_id": "a36fe2df87b3428aa5a03d7e174d1d71",
       "version_major": 2,
       "version_minor": 0
      },
      "text/plain": [
       "  0%|          | 0/7 [00:00<?, ?it/s]"
      ]
     },
     "metadata": {},
     "output_type": "display_data"
    },
    {
     "name": "stdout",
     "output_type": "stream",
     "text": [
      "C=0.001 0.808 +- 0.024\n",
      "C=0.01 0.892 +- 0.012\n",
      "C=0.1 0.908 +- 0.009\n",
      "C=0.5 0.909 +- 0.012\n",
      "C=1 0.909 +- 0.013\n",
      "C=5 0.908 +- 0.013\n",
      "C=10 0.908 +- 0.013\n"
     ]
    }
   ],
   "source": [
    "n_splits = 5\n",
    "\n",
    "for C in tqdm([0.001, 0.01, 0.1, 0.5, 1, 5, 10]):\n",
    "    kfold = KFold(n_splits=n_splits, shuffle=True, random_state=1)\n",
    "\n",
    "    scores = []\n",
    "\n",
    "    for train_idx, val_idx in kfold.split(df_full_train):\n",
    "        df_train_cv = df_full_train.iloc[train_idx]\n",
    "        df_val_cv = df_full_train.iloc[val_idx]\n",
    "\n",
    "        y_train_cv = df_train_cv.heart_diesease.values\n",
    "        y_val_cv = df_val_cv.heart_diesease.values\n",
    "\n",
    "        dv, model = train(df_train_cv, y_train_cv, C=C)\n",
    "        y_pred_cv = predict(df_val_cv, dv, model)\n",
    "\n",
    "        auc = roc_auc_score(y_val_cv, y_pred_cv)\n",
    "        scores.append(auc)\n",
    "\n",
    "    print('C=%s %.3f +- %.3f' % (C, np.mean(scores), np.std(scores)))"
   ]
  },
  {
   "cell_type": "code",
   "execution_count": 43,
   "id": "1f638dfa",
   "metadata": {},
   "outputs": [
    {
     "name": "stdout",
     "output_type": "stream",
     "text": [
      "Logistic regression CV auc scores:\n",
      " [0.8870614035087719, 0.9291806958473625, 0.9054428555592507, 0.9118234250221827, 0.9078874179552786]\n",
      "\n",
      "Logistic regression CV auc Scores mean: 0.908\n",
      "\n",
      "Logistic regression CV Scores standard deviation: 0.013\n"
     ]
    }
   ],
   "source": [
    "print(f'Logistic regression CV auc scores:\\n {scores}\\n')\n",
    "print(f'Logistic regression CV auc Scores mean: {round(np.mean(scores),3)}\\n')\n",
    "print(f'Logistic regression CV Scores standard deviation: {round(np.std(scores),3)}')"
   ]
  },
  {
   "cell_type": "markdown",
   "id": "409573fa",
   "metadata": {},
   "source": [
    "`After Cross validation, Logistic regression has mean auc score of 0.908 and standard deviation of 0.013`"
   ]
  },
  {
   "cell_type": "markdown",
   "id": "034a10c2",
   "metadata": {},
   "source": [
    "## Decision trees"
   ]
  },
  {
   "cell_type": "code",
   "execution_count": 44,
   "id": "4bf19d1d",
   "metadata": {},
   "outputs": [
    {
     "data": {
      "text/plain": [
       "DecisionTreeClassifier()"
      ]
     },
     "execution_count": 44,
     "metadata": {},
     "output_type": "execute_result"
    }
   ],
   "source": [
    "dt_i = DecisionTreeClassifier()\n",
    "dt_i.fit(X_train, y_train)"
   ]
  },
  {
   "cell_type": "code",
   "execution_count": 45,
   "id": "52def87f",
   "metadata": {},
   "outputs": [
    {
     "data": {
      "text/plain": [
       "0.8444915254237289"
      ]
     },
     "execution_count": 45,
     "metadata": {},
     "output_type": "execute_result"
    }
   ],
   "source": [
    "y_pred = dt_i.predict_proba(X_val)[:, 1]\n",
    "roc_auc_score(y_val, y_pred)"
   ]
  },
  {
   "cell_type": "code",
   "execution_count": 46,
   "id": "4c1ebd58",
   "metadata": {},
   "outputs": [
    {
     "data": {
      "text/plain": [
       "1.0"
      ]
     },
     "execution_count": 46,
     "metadata": {},
     "output_type": "execute_result"
    }
   ],
   "source": [
    "y_pred = dt_i.predict_proba(X_train)[:, 1]\n",
    "roc_auc_score(y_train, y_pred)"
   ]
  },
  {
   "cell_type": "code",
   "execution_count": 47,
   "id": "06f62b99",
   "metadata": {},
   "outputs": [
    {
     "name": "stdout",
     "output_type": "stream",
     "text": [
      "|--- st_slope=Up <= 0.50\n",
      "|   |--- chest_pain_type=ASY <= 0.50\n",
      "|   |   |--- max_heart_rate <= 130.50\n",
      "|   |   |   |--- sex=M <= 0.50\n",
      "|   |   |   |   |--- max_heart_rate <= 105.50\n",
      "|   |   |   |   |   |--- class: 1\n",
      "|   |   |   |   |--- max_heart_rate >  105.50\n",
      "|   |   |   |   |   |--- class: 0\n",
      "|   |   |   |--- sex=M >  0.50\n",
      "|   |   |   |   |--- resting_bp_s <= 130.50\n",
      "|   |   |   |   |   |--- resting_bp_s <= 128.00\n",
      "|   |   |   |   |   |   |--- max_heart_rate <= 101.00\n",
      "|   |   |   |   |   |   |   |--- oldpeak <= 0.65\n",
      "|   |   |   |   |   |   |   |   |--- exercise_angina=Yes <= 0.50\n",
      "|   |   |   |   |   |   |   |   |   |--- fasting_blood_sugar=0 <= 0.50\n",
      "|   |   |   |   |   |   |   |   |   |   |--- class: 1\n",
      "|   |   |   |   |   |   |   |   |   |--- fasting_blood_sugar=0 >  0.50\n",
      "|   |   |   |   |   |   |   |   |   |   |--- age <= 54.50\n",
      "|   |   |   |   |   |   |   |   |   |   |   |--- class: 1\n",
      "|   |   |   |   |   |   |   |   |   |   |--- age >  54.50\n",
      "|   |   |   |   |   |   |   |   |   |   |   |--- class: 0\n",
      "|   |   |   |   |   |   |   |   |--- exercise_angina=Yes >  0.50\n",
      "|   |   |   |   |   |   |   |   |   |--- class: 1\n",
      "|   |   |   |   |   |   |   |--- oldpeak >  0.65\n",
      "|   |   |   |   |   |   |   |   |--- class: 0\n",
      "|   |   |   |   |   |   |--- max_heart_rate >  101.00\n",
      "|   |   |   |   |   |   |   |--- class: 1\n",
      "|   |   |   |   |   |--- resting_bp_s >  128.00\n",
      "|   |   |   |   |   |   |--- class: 0\n",
      "|   |   |   |   |--- resting_bp_s >  130.50\n",
      "|   |   |   |   |   |--- age <= 71.50\n",
      "|   |   |   |   |   |   |--- class: 1\n",
      "|   |   |   |   |   |--- age >  71.50\n",
      "|   |   |   |   |   |   |--- age <= 73.00\n",
      "|   |   |   |   |   |   |   |--- class: 0\n",
      "|   |   |   |   |   |   |--- age >  73.00\n",
      "|   |   |   |   |   |   |   |--- class: 1\n",
      "|   |   |--- max_heart_rate >  130.50\n",
      "|   |   |   |--- oldpeak <= 2.45\n",
      "|   |   |   |   |--- age <= 46.50\n",
      "|   |   |   |   |   |--- age <= 35.50\n",
      "|   |   |   |   |   |   |--- class: 1\n",
      "|   |   |   |   |   |--- age >  35.50\n",
      "|   |   |   |   |   |   |--- class: 0\n",
      "|   |   |   |   |--- age >  46.50\n",
      "|   |   |   |   |   |--- resting_ecg=LVH <= 0.50\n",
      "|   |   |   |   |   |   |--- cholesterol <= 213.50\n",
      "|   |   |   |   |   |   |   |--- class: 1\n",
      "|   |   |   |   |   |   |--- cholesterol >  213.50\n",
      "|   |   |   |   |   |   |   |--- max_heart_rate <= 136.50\n",
      "|   |   |   |   |   |   |   |   |--- class: 1\n",
      "|   |   |   |   |   |   |   |--- max_heart_rate >  136.50\n",
      "|   |   |   |   |   |   |   |   |--- cholesterol <= 226.50\n",
      "|   |   |   |   |   |   |   |   |   |--- class: 0\n",
      "|   |   |   |   |   |   |   |   |--- cholesterol >  226.50\n",
      "|   |   |   |   |   |   |   |   |   |--- age <= 60.50\n",
      "|   |   |   |   |   |   |   |   |   |   |--- max_heart_rate <= 168.50\n",
      "|   |   |   |   |   |   |   |   |   |   |   |--- truncated branch of depth 3\n",
      "|   |   |   |   |   |   |   |   |   |   |--- max_heart_rate >  168.50\n",
      "|   |   |   |   |   |   |   |   |   |   |   |--- class: 0\n",
      "|   |   |   |   |   |   |   |   |   |--- age >  60.50\n",
      "|   |   |   |   |   |   |   |   |   |   |--- class: 0\n",
      "|   |   |   |   |   |--- resting_ecg=LVH >  0.50\n",
      "|   |   |   |   |   |   |--- cholesterol <= 252.00\n",
      "|   |   |   |   |   |   |   |--- oldpeak <= 0.05\n",
      "|   |   |   |   |   |   |   |   |--- class: 1\n",
      "|   |   |   |   |   |   |   |--- oldpeak >  0.05\n",
      "|   |   |   |   |   |   |   |   |--- class: 0\n",
      "|   |   |   |   |   |   |--- cholesterol >  252.00\n",
      "|   |   |   |   |   |   |   |--- max_heart_rate <= 146.50\n",
      "|   |   |   |   |   |   |   |   |--- class: 1\n",
      "|   |   |   |   |   |   |   |--- max_heart_rate >  146.50\n",
      "|   |   |   |   |   |   |   |   |--- chest_pain_type=NAP <= 0.50\n",
      "|   |   |   |   |   |   |   |   |   |--- cholesterol <= 291.00\n",
      "|   |   |   |   |   |   |   |   |   |   |--- class: 1\n",
      "|   |   |   |   |   |   |   |   |   |--- cholesterol >  291.00\n",
      "|   |   |   |   |   |   |   |   |   |   |--- class: 0\n",
      "|   |   |   |   |   |   |   |   |--- chest_pain_type=NAP >  0.50\n",
      "|   |   |   |   |   |   |   |   |   |--- class: 0\n",
      "|   |   |   |--- oldpeak >  2.45\n",
      "|   |   |   |   |--- st_slope=Down <= 0.50\n",
      "|   |   |   |   |   |--- fasting_blood_sugar=1 <= 0.50\n",
      "|   |   |   |   |   |   |--- class: 1\n",
      "|   |   |   |   |   |--- fasting_blood_sugar=1 >  0.50\n",
      "|   |   |   |   |   |   |--- class: 0\n",
      "|   |   |   |   |--- st_slope=Down >  0.50\n",
      "|   |   |   |   |   |--- class: 0\n",
      "|   |--- chest_pain_type=ASY >  0.50\n",
      "|   |   |--- sex=M <= 0.50\n",
      "|   |   |   |--- oldpeak <= 1.70\n",
      "|   |   |   |   |--- resting_ecg=LVH <= 0.50\n",
      "|   |   |   |   |   |--- age <= 68.50\n",
      "|   |   |   |   |   |   |--- cholesterol <= 342.50\n",
      "|   |   |   |   |   |   |   |--- age <= 53.00\n",
      "|   |   |   |   |   |   |   |   |--- max_heart_rate <= 145.00\n",
      "|   |   |   |   |   |   |   |   |   |--- max_heart_rate <= 119.00\n",
      "|   |   |   |   |   |   |   |   |   |   |--- class: 1\n",
      "|   |   |   |   |   |   |   |   |   |--- max_heart_rate >  119.00\n",
      "|   |   |   |   |   |   |   |   |   |   |--- class: 0\n",
      "|   |   |   |   |   |   |   |   |--- max_heart_rate >  145.00\n",
      "|   |   |   |   |   |   |   |   |   |--- class: 1\n",
      "|   |   |   |   |   |   |   |--- age >  53.00\n",
      "|   |   |   |   |   |   |   |   |--- class: 1\n",
      "|   |   |   |   |   |   |--- cholesterol >  342.50\n",
      "|   |   |   |   |   |   |   |--- class: 0\n",
      "|   |   |   |   |   |--- age >  68.50\n",
      "|   |   |   |   |   |   |--- class: 0\n",
      "|   |   |   |   |--- resting_ecg=LVH >  0.50\n",
      "|   |   |   |   |   |--- resting_bp_s <= 142.50\n",
      "|   |   |   |   |   |   |--- class: 0\n",
      "|   |   |   |   |   |--- resting_bp_s >  142.50\n",
      "|   |   |   |   |   |   |--- class: 1\n",
      "|   |   |   |--- oldpeak >  1.70\n",
      "|   |   |   |   |--- class: 1\n",
      "|   |   |--- sex=M >  0.50\n",
      "|   |   |   |--- resting_bp_s <= 107.00\n",
      "|   |   |   |   |--- max_heart_rate <= 133.50\n",
      "|   |   |   |   |   |--- class: 1\n",
      "|   |   |   |   |--- max_heart_rate >  133.50\n",
      "|   |   |   |   |   |--- class: 0\n",
      "|   |   |   |--- resting_bp_s >  107.00\n",
      "|   |   |   |   |--- max_heart_rate <= 175.50\n",
      "|   |   |   |   |   |--- age <= 74.50\n",
      "|   |   |   |   |   |   |--- cholesterol <= 423.00\n",
      "|   |   |   |   |   |   |   |--- fasting_blood_sugar=1 <= 0.50\n",
      "|   |   |   |   |   |   |   |   |--- max_heart_rate <= 147.50\n",
      "|   |   |   |   |   |   |   |   |   |--- oldpeak <= 1.55\n",
      "|   |   |   |   |   |   |   |   |   |   |--- oldpeak <= 1.45\n",
      "|   |   |   |   |   |   |   |   |   |   |   |--- truncated branch of depth 6\n",
      "|   |   |   |   |   |   |   |   |   |   |--- oldpeak >  1.45\n",
      "|   |   |   |   |   |   |   |   |   |   |   |--- truncated branch of depth 3\n",
      "|   |   |   |   |   |   |   |   |   |--- oldpeak >  1.55\n",
      "|   |   |   |   |   |   |   |   |   |   |--- resting_ecg=ST <= 0.50\n",
      "|   |   |   |   |   |   |   |   |   |   |   |--- class: 1\n",
      "|   |   |   |   |   |   |   |   |   |   |--- resting_ecg=ST >  0.50\n",
      "|   |   |   |   |   |   |   |   |   |   |   |--- truncated branch of depth 3\n",
      "|   |   |   |   |   |   |   |   |--- max_heart_rate >  147.50\n",
      "|   |   |   |   |   |   |   |   |   |--- age <= 56.50\n",
      "|   |   |   |   |   |   |   |   |   |   |--- class: 1\n",
      "|   |   |   |   |   |   |   |   |   |--- age >  56.50\n",
      "|   |   |   |   |   |   |   |   |   |   |--- max_heart_rate <= 162.00\n",
      "|   |   |   |   |   |   |   |   |   |   |   |--- class: 0\n",
      "|   |   |   |   |   |   |   |   |   |   |--- max_heart_rate >  162.00\n",
      "|   |   |   |   |   |   |   |   |   |   |   |--- class: 1\n",
      "|   |   |   |   |   |   |   |--- fasting_blood_sugar=1 >  0.50\n",
      "|   |   |   |   |   |   |   |   |--- class: 1\n",
      "|   |   |   |   |   |   |--- cholesterol >  423.00\n",
      "|   |   |   |   |   |   |   |--- cholesterol <= 474.50\n",
      "|   |   |   |   |   |   |   |   |--- class: 0\n",
      "|   |   |   |   |   |   |   |--- cholesterol >  474.50\n",
      "|   |   |   |   |   |   |   |   |--- class: 1\n",
      "|   |   |   |   |   |--- age >  74.50\n",
      "|   |   |   |   |   |   |--- fasting_blood_sugar=0 <= 0.50\n",
      "|   |   |   |   |   |   |   |--- class: 0\n",
      "|   |   |   |   |   |   |--- fasting_blood_sugar=0 >  0.50\n",
      "|   |   |   |   |   |   |   |--- class: 1\n",
      "|   |   |   |   |--- max_heart_rate >  175.50\n",
      "|   |   |   |   |   |--- class: 0\n",
      "|--- st_slope=Up >  0.50\n",
      "|   |--- chest_pain_type=ASY <= 0.50\n",
      "|   |   |--- oldpeak <= 2.20\n",
      "|   |   |   |--- cholesterol <= 153.00\n",
      "|   |   |   |   |--- oldpeak <= 0.50\n",
      "|   |   |   |   |   |--- sex=M <= 0.50\n",
      "|   |   |   |   |   |   |--- age <= 68.00\n",
      "|   |   |   |   |   |   |   |--- class: 0\n",
      "|   |   |   |   |   |   |--- age >  68.00\n",
      "|   |   |   |   |   |   |   |--- class: 1\n",
      "|   |   |   |   |   |--- sex=M >  0.50\n",
      "|   |   |   |   |   |   |--- class: 0\n",
      "|   |   |   |   |--- oldpeak >  0.50\n",
      "|   |   |   |   |   |--- class: 1\n",
      "|   |   |   |--- cholesterol >  153.00\n",
      "|   |   |   |   |--- age <= 56.50\n",
      "|   |   |   |   |   |--- class: 0\n",
      "|   |   |   |   |--- age >  56.50\n",
      "|   |   |   |   |   |--- age <= 57.50\n",
      "|   |   |   |   |   |   |--- chest_pain_type=ATA <= 0.50\n",
      "|   |   |   |   |   |   |   |--- class: 0\n",
      "|   |   |   |   |   |   |--- chest_pain_type=ATA >  0.50\n",
      "|   |   |   |   |   |   |   |--- fasting_blood_sugar=0 <= 0.50\n",
      "|   |   |   |   |   |   |   |   |--- class: 0\n",
      "|   |   |   |   |   |   |   |--- fasting_blood_sugar=0 >  0.50\n",
      "|   |   |   |   |   |   |   |   |--- class: 1\n",
      "|   |   |   |   |   |--- age >  57.50\n",
      "|   |   |   |   |   |   |--- cholesterol <= 318.50\n",
      "|   |   |   |   |   |   |   |--- resting_bp_s <= 158.00\n",
      "|   |   |   |   |   |   |   |   |--- class: 0\n",
      "|   |   |   |   |   |   |   |--- resting_bp_s >  158.00\n",
      "|   |   |   |   |   |   |   |   |--- resting_ecg=Normal <= 0.50\n",
      "|   |   |   |   |   |   |   |   |   |--- class: 1\n",
      "|   |   |   |   |   |   |   |   |--- resting_ecg=Normal >  0.50\n",
      "|   |   |   |   |   |   |   |   |   |--- class: 0\n",
      "|   |   |   |   |   |   |--- cholesterol >  318.50\n",
      "|   |   |   |   |   |   |   |--- resting_bp_s <= 148.00\n",
      "|   |   |   |   |   |   |   |   |--- class: 1\n",
      "|   |   |   |   |   |   |   |--- resting_bp_s >  148.00\n",
      "|   |   |   |   |   |   |   |   |--- class: 0\n",
      "|   |   |--- oldpeak >  2.20\n",
      "|   |   |   |--- class: 1\n",
      "|   |--- chest_pain_type=ASY >  0.50\n",
      "|   |   |--- cholesterol <= 42.50\n",
      "|   |   |   |--- resting_bp_s <= 152.00\n",
      "|   |   |   |   |--- oldpeak <= 1.90\n",
      "|   |   |   |   |   |--- class: 1\n",
      "|   |   |   |   |--- oldpeak >  1.90\n",
      "|   |   |   |   |   |--- fasting_blood_sugar=0 <= 0.50\n",
      "|   |   |   |   |   |   |--- class: 1\n",
      "|   |   |   |   |   |--- fasting_blood_sugar=0 >  0.50\n",
      "|   |   |   |   |   |   |--- class: 0\n",
      "|   |   |   |--- resting_bp_s >  152.00\n",
      "|   |   |   |   |--- max_heart_rate <= 114.50\n",
      "|   |   |   |   |   |--- class: 1\n",
      "|   |   |   |   |--- max_heart_rate >  114.50\n",
      "|   |   |   |   |   |--- class: 0\n",
      "|   |   |--- cholesterol >  42.50\n",
      "|   |   |   |--- exercise_angina=No <= 0.50\n",
      "|   |   |   |   |--- max_heart_rate <= 162.50\n",
      "|   |   |   |   |   |--- sex=M <= 0.50\n",
      "|   |   |   |   |   |   |--- class: 0\n",
      "|   |   |   |   |   |--- sex=M >  0.50\n",
      "|   |   |   |   |   |   |--- max_heart_rate <= 117.50\n",
      "|   |   |   |   |   |   |   |--- oldpeak <= 0.40\n",
      "|   |   |   |   |   |   |   |   |--- class: 0\n",
      "|   |   |   |   |   |   |   |--- oldpeak >  0.40\n",
      "|   |   |   |   |   |   |   |   |--- class: 1\n",
      "|   |   |   |   |   |   |--- max_heart_rate >  117.50\n",
      "|   |   |   |   |   |   |   |--- class: 1\n",
      "|   |   |   |   |--- max_heart_rate >  162.50\n",
      "|   |   |   |   |   |--- oldpeak <= 1.10\n",
      "|   |   |   |   |   |   |--- class: 0\n",
      "|   |   |   |   |   |--- oldpeak >  1.10\n",
      "|   |   |   |   |   |   |--- class: 1\n",
      "|   |   |   |--- exercise_angina=No >  0.50\n",
      "|   |   |   |   |--- max_heart_rate <= 143.50\n",
      "|   |   |   |   |   |--- class: 0\n",
      "|   |   |   |   |--- max_heart_rate >  143.50\n",
      "|   |   |   |   |   |--- age <= 57.50\n",
      "|   |   |   |   |   |   |--- resting_bp_s <= 126.50\n",
      "|   |   |   |   |   |   |   |--- max_heart_rate <= 158.50\n",
      "|   |   |   |   |   |   |   |   |--- resting_ecg=LVH <= 0.50\n",
      "|   |   |   |   |   |   |   |   |   |--- class: 0\n",
      "|   |   |   |   |   |   |   |   |--- resting_ecg=LVH >  0.50\n",
      "|   |   |   |   |   |   |   |   |   |--- class: 1\n",
      "|   |   |   |   |   |   |   |--- max_heart_rate >  158.50\n",
      "|   |   |   |   |   |   |   |   |--- age <= 51.00\n",
      "|   |   |   |   |   |   |   |   |   |--- class: 0\n",
      "|   |   |   |   |   |   |   |   |--- age >  51.00\n",
      "|   |   |   |   |   |   |   |   |   |--- class: 1\n",
      "|   |   |   |   |   |   |--- resting_bp_s >  126.50\n",
      "|   |   |   |   |   |   |   |--- resting_bp_s <= 151.00\n",
      "|   |   |   |   |   |   |   |   |--- class: 0\n",
      "|   |   |   |   |   |   |   |--- resting_bp_s >  151.00\n",
      "|   |   |   |   |   |   |   |   |--- class: 1\n",
      "|   |   |   |   |   |--- age >  57.50\n",
      "|   |   |   |   |   |   |--- max_heart_rate <= 176.50\n",
      "|   |   |   |   |   |   |   |--- cholesterol <= 221.50\n",
      "|   |   |   |   |   |   |   |   |--- age <= 61.50\n",
      "|   |   |   |   |   |   |   |   |   |--- class: 1\n",
      "|   |   |   |   |   |   |   |   |--- age >  61.50\n",
      "|   |   |   |   |   |   |   |   |   |--- class: 0\n",
      "|   |   |   |   |   |   |   |--- cholesterol >  221.50\n",
      "|   |   |   |   |   |   |   |   |--- class: 1\n",
      "|   |   |   |   |   |   |--- max_heart_rate >  176.50\n",
      "|   |   |   |   |   |   |   |--- class: 0\n",
      "\n"
     ]
    },
    {
     "name": "stderr",
     "output_type": "stream",
     "text": [
      "C:\\Users\\460484\\Anaconda3\\lib\\site-packages\\sklearn\\utils\\deprecation.py:87: FutureWarning: Function get_feature_names is deprecated; get_feature_names is deprecated in 1.0 and will be removed in 1.2. Please use get_feature_names_out instead.\n",
      "  warnings.warn(msg, category=FutureWarning)\n"
     ]
    }
   ],
   "source": [
    "print(export_text(dt_i, feature_names=dv.get_feature_names()))"
   ]
  },
  {
   "cell_type": "code",
   "execution_count": 48,
   "id": "85b54b65",
   "metadata": {},
   "outputs": [],
   "source": [
    "scores = []\n",
    "\n",
    "for depth in [4, 5, 6, 10,15,20,30]:\n",
    "    for s in [1, 5, 10, 15, 20, 500, 100, 200]:\n",
    "        dt = DecisionTreeClassifier(max_depth=depth, min_samples_leaf=s)\n",
    "        dt.fit(X_train, y_train)\n",
    "\n",
    "        y_pred = dt.predict_proba(X_val)[:, 1]\n",
    "        auc = roc_auc_score(y_val, y_pred)\n",
    "        \n",
    "        scores.append((depth, s, auc))"
   ]
  },
  {
   "cell_type": "code",
   "execution_count": 49,
   "id": "39ac3387",
   "metadata": {},
   "outputs": [],
   "source": [
    "columns = ['max_depth', 'min_samples_leaf', 'auc']\n",
    "df_scores = pd.DataFrame(scores, columns=columns)"
   ]
  },
  {
   "cell_type": "code",
   "execution_count": 50,
   "id": "06bd1075",
   "metadata": {},
   "outputs": [
    {
     "data": {
      "text/html": [
       "<div>\n",
       "<style scoped>\n",
       "    .dataframe tbody tr th:only-of-type {\n",
       "        vertical-align: middle;\n",
       "    }\n",
       "\n",
       "    .dataframe tbody tr th {\n",
       "        vertical-align: top;\n",
       "    }\n",
       "\n",
       "    .dataframe thead tr th {\n",
       "        text-align: left;\n",
       "    }\n",
       "\n",
       "    .dataframe thead tr:last-of-type th {\n",
       "        text-align: right;\n",
       "    }\n",
       "</style>\n",
       "<table border=\"1\" class=\"dataframe\">\n",
       "  <thead>\n",
       "    <tr>\n",
       "      <th></th>\n",
       "      <th colspan=\"7\" halign=\"left\">auc</th>\n",
       "    </tr>\n",
       "    <tr>\n",
       "      <th>max_depth</th>\n",
       "      <th>4</th>\n",
       "      <th>5</th>\n",
       "      <th>6</th>\n",
       "      <th>10</th>\n",
       "      <th>15</th>\n",
       "      <th>20</th>\n",
       "      <th>30</th>\n",
       "    </tr>\n",
       "    <tr>\n",
       "      <th>min_samples_leaf</th>\n",
       "      <th></th>\n",
       "      <th></th>\n",
       "      <th></th>\n",
       "      <th></th>\n",
       "      <th></th>\n",
       "      <th></th>\n",
       "      <th></th>\n",
       "    </tr>\n",
       "  </thead>\n",
       "  <tbody>\n",
       "    <tr>\n",
       "      <th>1</th>\n",
       "      <td>0.848</td>\n",
       "      <td>0.856</td>\n",
       "      <td>0.854</td>\n",
       "      <td>0.852</td>\n",
       "      <td>0.853</td>\n",
       "      <td>0.865</td>\n",
       "      <td>0.849</td>\n",
       "    </tr>\n",
       "    <tr>\n",
       "      <th>5</th>\n",
       "      <td>0.853</td>\n",
       "      <td>0.858</td>\n",
       "      <td>0.858</td>\n",
       "      <td>0.872</td>\n",
       "      <td>0.881</td>\n",
       "      <td>0.875</td>\n",
       "      <td>0.872</td>\n",
       "    </tr>\n",
       "    <tr>\n",
       "      <th>10</th>\n",
       "      <td>0.881</td>\n",
       "      <td>0.868</td>\n",
       "      <td>0.875</td>\n",
       "      <td>0.881</td>\n",
       "      <td>0.872</td>\n",
       "      <td>0.871</td>\n",
       "      <td>0.881</td>\n",
       "    </tr>\n",
       "    <tr>\n",
       "      <th>15</th>\n",
       "      <td>0.893</td>\n",
       "      <td>0.890</td>\n",
       "      <td>0.887</td>\n",
       "      <td>0.888</td>\n",
       "      <td>0.887</td>\n",
       "      <td>0.887</td>\n",
       "      <td>0.887</td>\n",
       "    </tr>\n",
       "    <tr>\n",
       "      <th>20</th>\n",
       "      <td>0.884</td>\n",
       "      <td>0.879</td>\n",
       "      <td>0.880</td>\n",
       "      <td>0.877</td>\n",
       "      <td>0.875</td>\n",
       "      <td>0.877</td>\n",
       "      <td>0.877</td>\n",
       "    </tr>\n",
       "    <tr>\n",
       "      <th>100</th>\n",
       "      <td>0.829</td>\n",
       "      <td>0.829</td>\n",
       "      <td>0.829</td>\n",
       "      <td>0.829</td>\n",
       "      <td>0.829</td>\n",
       "      <td>0.829</td>\n",
       "      <td>0.829</td>\n",
       "    </tr>\n",
       "    <tr>\n",
       "      <th>200</th>\n",
       "      <td>0.814</td>\n",
       "      <td>0.814</td>\n",
       "      <td>0.814</td>\n",
       "      <td>0.814</td>\n",
       "      <td>0.814</td>\n",
       "      <td>0.814</td>\n",
       "      <td>0.814</td>\n",
       "    </tr>\n",
       "    <tr>\n",
       "      <th>500</th>\n",
       "      <td>0.500</td>\n",
       "      <td>0.500</td>\n",
       "      <td>0.500</td>\n",
       "      <td>0.500</td>\n",
       "      <td>0.500</td>\n",
       "      <td>0.500</td>\n",
       "      <td>0.500</td>\n",
       "    </tr>\n",
       "  </tbody>\n",
       "</table>\n",
       "</div>"
      ],
      "text/plain": [
       "                    auc                                          \n",
       "max_depth            4      5      6      10     15     20     30\n",
       "min_samples_leaf                                                 \n",
       "1                 0.848  0.856  0.854  0.852  0.853  0.865  0.849\n",
       "5                 0.853  0.858  0.858  0.872  0.881  0.875  0.872\n",
       "10                0.881  0.868  0.875  0.881  0.872  0.871  0.881\n",
       "15                0.893  0.890  0.887  0.888  0.887  0.887  0.887\n",
       "20                0.884  0.879  0.880  0.877  0.875  0.877  0.877\n",
       "100               0.829  0.829  0.829  0.829  0.829  0.829  0.829\n",
       "200               0.814  0.814  0.814  0.814  0.814  0.814  0.814\n",
       "500               0.500  0.500  0.500  0.500  0.500  0.500  0.500"
      ]
     },
     "execution_count": 50,
     "metadata": {},
     "output_type": "execute_result"
    }
   ],
   "source": [
    "df_scores_pivot = df_scores.pivot(index='min_samples_leaf', columns=['max_depth'], values=['auc'])\n",
    "df_scores_pivot.round(3)"
   ]
  },
  {
   "cell_type": "code",
   "execution_count": 51,
   "id": "dd49c51a",
   "metadata": {},
   "outputs": [
    {
     "data": {
      "text/plain": [
       "<AxesSubplot:xlabel='None-max_depth', ylabel='min_samples_leaf'>"
      ]
     },
     "execution_count": 51,
     "metadata": {},
     "output_type": "execute_result"
    },
    {
     "data": {
      "image/png": "[encoded data removed]",
      "text/plain": [
       "<Figure size 1152x360 with 2 Axes>"
      ]
     },
     "metadata": {},
     "output_type": "display_data"
    }
   ],
   "source": [
    "sns.heatmap(df_scores_pivot, annot=True, fmt=\".3f\")"
   ]
  },
  {
   "cell_type": "markdown",
   "id": "c7cbddfc",
   "metadata": {},
   "source": [
    "* We achieved the best score with max depth of 4 and min samples leaf of 15."
   ]
  },
  {
   "cell_type": "code",
   "execution_count": 52,
   "id": "8ad4e6a3",
   "metadata": {},
   "outputs": [
    {
     "name": "stdout",
     "output_type": "stream",
     "text": [
      "CPU times: total: 0 ns\n",
      "Wall time: 1e+03 µs\n"
     ]
    },
    {
     "data": {
      "text/plain": [
       "DecisionTreeClassifier(max_depth=4, min_samples_leaf=15)"
      ]
     },
     "execution_count": 52,
     "metadata": {},
     "output_type": "execute_result"
    }
   ],
   "source": [
    "%%time\n",
    "dt =DecisionTreeClassifier(max_depth=4, min_samples_leaf=15)\n",
    "dt.fit(X_train, y_train)"
   ]
  },
  {
   "cell_type": "code",
   "execution_count": 53,
   "id": "f7eff779",
   "metadata": {},
   "outputs": [
    {
     "name": "stdout",
     "output_type": "stream",
     "text": [
      "|--- st_slope=Up <= 0.50\n",
      "|   |--- chest_pain_type=ASY <= 0.50\n",
      "|   |   |--- max_heart_rate <= 130.50\n",
      "|   |   |   |--- exercise_angina=Yes <= 0.50\n",
      "|   |   |   |   |--- class: 1\n",
      "|   |   |   |--- exercise_angina=Yes >  0.50\n",
      "|   |   |   |   |--- class: 1\n",
      "|   |   |--- max_heart_rate >  130.50\n",
      "|   |   |   |--- sex=M <= 0.50\n",
      "|   |   |   |   |--- class: 0\n",
      "|   |   |   |--- sex=M >  0.50\n",
      "|   |   |   |   |--- class: 0\n",
      "|   |--- chest_pain_type=ASY >  0.50\n",
      "|   |   |--- sex=M <= 0.50\n",
      "|   |   |   |--- resting_bp_s <= 142.50\n",
      "|   |   |   |   |--- class: 1\n",
      "|   |   |   |--- resting_bp_s >  142.50\n",
      "|   |   |   |   |--- class: 1\n",
      "|   |   |--- sex=M >  0.50\n",
      "|   |   |   |--- max_heart_rate <= 147.50\n",
      "|   |   |   |   |--- class: 1\n",
      "|   |   |   |--- max_heart_rate >  147.50\n",
      "|   |   |   |   |--- class: 1\n",
      "|--- st_slope=Up >  0.50\n",
      "|   |--- chest_pain_type=ASY <= 0.50\n",
      "|   |   |--- cholesterol <= 153.00\n",
      "|   |   |   |--- class: 0\n",
      "|   |   |--- cholesterol >  153.00\n",
      "|   |   |   |--- age <= 56.50\n",
      "|   |   |   |   |--- class: 0\n",
      "|   |   |   |--- age >  56.50\n",
      "|   |   |   |   |--- class: 0\n",
      "|   |--- chest_pain_type=ASY >  0.50\n",
      "|   |   |--- cholesterol <= 42.50\n",
      "|   |   |   |--- class: 1\n",
      "|   |   |--- cholesterol >  42.50\n",
      "|   |   |   |--- exercise_angina=Yes <= 0.50\n",
      "|   |   |   |   |--- class: 0\n",
      "|   |   |   |--- exercise_angina=Yes >  0.50\n",
      "|   |   |   |   |--- class: 1\n",
      "\n"
     ]
    },
    {
     "name": "stderr",
     "output_type": "stream",
     "text": [
      "C:\\Users\\460484\\Anaconda3\\lib\\site-packages\\sklearn\\utils\\deprecation.py:87: FutureWarning: Function get_feature_names is deprecated; get_feature_names is deprecated in 1.0 and will be removed in 1.2. Please use get_feature_names_out instead.\n",
      "  warnings.warn(msg, category=FutureWarning)\n"
     ]
    }
   ],
   "source": [
    "print(export_text(dt, feature_names=dv.get_feature_names()))"
   ]
  },
  {
   "cell_type": "code",
   "execution_count": 54,
   "id": "f6e56817",
   "metadata": {},
   "outputs": [
    {
     "data": {
      "text/plain": [
       "0.8928319209039548"
      ]
     },
     "execution_count": 54,
     "metadata": {},
     "output_type": "execute_result"
    }
   ],
   "source": [
    "y_pred = dt.predict_proba(X_val)[:, 1]\n",
    "y_pred_p = dt.predict(X_val)\n",
    "roc_auc_score(y_val, y_pred)"
   ]
  },
  {
   "cell_type": "code",
   "execution_count": 55,
   "id": "75710996",
   "metadata": {},
   "outputs": [
    {
     "name": "stdout",
     "output_type": "stream",
     "text": [
      "accuracy score for DT: 0.8067226890756303\n",
      "Precision score for DT: 0.8135593220338984\n",
      "Recall score for DT: 0.8\n",
      "F1 score for DT: 0.8067226890756303\n",
      "Classification report for DT: \n",
      "              precision    recall  f1-score   support\n",
      "\n",
      "           0       0.80      0.81      0.81       118\n",
      "           1       0.81      0.80      0.81       120\n",
      "\n",
      "    accuracy                           0.81       238\n",
      "   macro avg       0.81      0.81      0.81       238\n",
      "weighted avg       0.81      0.81      0.81       238\n",
      "\n",
      "Confusion matrix for DT: \n",
      "[[96 22]\n",
      " [24 96]]\n",
      "\n",
      "Auc score for DT : 0.8928319209039548\n"
     ]
    },
    {
     "data": {
      "text/plain": [
       "<matplotlib.legend.Legend at 0x14bd46b9ca0>"
      ]
     },
     "execution_count": 55,
     "metadata": {},
     "output_type": "execute_result"
    },
    {
     "data": {
      "image/png": "[encoded data removed]",
      "text/plain": [
       "<Figure size 360x360 with 1 Axes>"
      ]
     },
     "metadata": {},
     "output_type": "display_data"
    }
   ],
   "source": [
    "print (\"accuracy score for DT: {}\".format(accuracy_score(y_val, y_pred_p)))\n",
    "print(\"Precision score for DT: {}\".format(precision_score(y_val,y_pred_p)))\n",
    "print(\"Recall score for DT: {}\".format(recall_score(y_val,y_pred_p)))\n",
    "print(\"F1 score for DT: {}\".format(f1_score(y_val,y_pred_p)))\n",
    "print(\"Classification report for DT: \\n{}\".format(classification_report(y_val, y_pred_p)))\n",
    "print(\"Confusion matrix for DT: \\n{}\".format(confusion_matrix(y_val, y_pred_p)))\n",
    "print()\n",
    "print(f'Auc score for DT : {roc_auc_score(y_val, y_pred)}')\n",
    "fpr, tpr, thresholds = roc_curve(y_val, y_pred)\n",
    "plt.figure(figsize=(5, 5))\n",
    "\n",
    "plt.plot(fpr, tpr, label='Decision Tree Model',color= 'red')\n",
    "plt.plot([0, 1], [0, 1], label='Random', linestyle='--')\n",
    "\n",
    "plt.xlabel('FPR')\n",
    "plt.ylabel('TPR')\n",
    "plt.title('ROC curve (DT-Model)')\n",
    "\n",
    "plt.legend()"
   ]
  },
  {
   "cell_type": "markdown",
   "id": "b5b18c3a",
   "metadata": {},
   "source": [
    "# Cross validation Decision Tree"
   ]
  },
  {
   "cell_type": "code",
   "execution_count": 56,
   "id": "64ca30a0",
   "metadata": {},
   "outputs": [],
   "source": [
    "def train_dt(df_train, y_train, C=1.0):\n",
    "    dicts = df_train[categorical + numerical].to_dict(orient='records')\n",
    "\n",
    "    dv = DictVectorizer(sparse=False)\n",
    "    X_train = dv.fit_transform(dicts)\n",
    "\n",
    "    model = DecisionTreeClassifier(max_depth=4, min_samples_leaf=15)\n",
    "    model.fit(X_train, y_train)\n",
    "    \n",
    "    return dv, model"
   ]
  },
  {
   "cell_type": "code",
   "execution_count": 57,
   "id": "f86ba170",
   "metadata": {},
   "outputs": [],
   "source": [
    "def predict_dt(df, dv, model):\n",
    "    dicts = df[categorical + numerical].to_dict(orient='records')\n",
    "\n",
    "    X = dv.transform(dicts)\n",
    "    y_pred = model.predict_proba(X)[:, 1]\n",
    "\n",
    "    return y_pred"
   ]
  },
  {
   "cell_type": "code",
   "execution_count": 58,
   "id": "10597c43",
   "metadata": {},
   "outputs": [
    {
     "data": {
      "application/vnd.jupyter.widget-view+json": {
       "model_id": "d48963b2f700452aa0416e0acdc40832",
       "version_major": 2,
       "version_minor": 0
      },
      "text/plain": [
       "  0%|          | 0/7 [00:00<?, ?it/s]"
      ]
     },
     "metadata": {},
     "output_type": "display_data"
    },
    {
     "name": "stdout",
     "output_type": "stream",
     "text": [
      "C=0.001 0.896 +- 0.015\n",
      "C=0.01 0.896 +- 0.014\n",
      "C=0.1 0.896 +- 0.014\n",
      "C=0.5 0.896 +- 0.014\n",
      "C=1 0.896 +- 0.015\n",
      "C=5 0.896 +- 0.015\n",
      "C=10 0.896 +- 0.015\n"
     ]
    }
   ],
   "source": [
    "n_splits = 5\n",
    "\n",
    "for C in tqdm([0.001, 0.01, 0.1, 0.5, 1, 5, 10]):\n",
    "    kfold = KFold(n_splits=n_splits, shuffle=True, random_state=1)\n",
    "\n",
    "    scores = []\n",
    "\n",
    "    for train_idx, val_idx in kfold.split(df_full_train):\n",
    "        df_train_cv = df_full_train.iloc[train_idx]\n",
    "        df_val_cv = df_full_train.iloc[val_idx]\n",
    "\n",
    "        y_train_cv = df_train_cv.heart_diesease.values\n",
    "        y_val_cv = df_val_cv.heart_diesease.values\n",
    "\n",
    "        dv, model = train_dt(df_train_cv, y_train_cv, C=C)\n",
    "        y_pred_cv = predict_dt(df_val_cv, dv, model)\n",
    "\n",
    "        auc = roc_auc_score(y_val_cv, y_pred_cv)\n",
    "        scores.append(auc)\n",
    "\n",
    "    print('C=%s %.3f +- %.3f' % (C, np.mean(scores), np.std(scores)))"
   ]
  },
  {
   "cell_type": "code",
   "execution_count": 59,
   "id": "8feb670d",
   "metadata": {},
   "outputs": [
    {
     "name": "stdout",
     "output_type": "stream",
     "text": [
      "Desicion tree CV auc scores:\n",
      " [0.8824013157894737, 0.917283950617284, 0.8817758563352178, 0.9095496894409938, 0.890366002892424]\n",
      "\n",
      "Desicion tree CV Scores mean: 0.896\n",
      "\n",
      "Desicion tree CV Scores standard deviation: 0.015\n"
     ]
    }
   ],
   "source": [
    "print(f'Desicion tree CV auc scores:\\n {scores}\\n')\n",
    "print(f'Desicion tree CV Scores mean: {round(np.mean(scores),3)}\\n')\n",
    "print(f'Desicion tree CV Scores standard deviation: {round(np.std(scores),3)}')"
   ]
  },
  {
   "cell_type": "markdown",
   "id": "4f77e4cf",
   "metadata": {},
   "source": [
    "`After Cross validation, Desicion tree has mean auc score of 0.896 and standard deviation of 0.015`"
   ]
  },
  {
   "cell_type": "markdown",
   "id": "c93ae6d2",
   "metadata": {},
   "source": [
    "## Random forest model"
   ]
  },
  {
   "cell_type": "code",
   "execution_count": 60,
   "id": "1d25728c",
   "metadata": {},
   "outputs": [
    {
     "name": "stdout",
     "output_type": "stream",
     "text": [
      "CPU times: total: 1.52 s\n",
      "Wall time: 2.12 s\n"
     ]
    }
   ],
   "source": [
    "%%time\n",
    "scores = []\n",
    "\n",
    "for n in range(10, 201, 10):\n",
    "    rf = rf = RandomForestClassifier(n_estimators=n,random_state=1)\n",
    "    rf.fit(X_train, y_train)\n",
    "\n",
    "    y_pred = rf.predict_proba(X_val)[:, 1]\n",
    "    auc = roc_auc_score(y_val, y_pred)\n",
    "    \n",
    "    scores.append((n, auc))"
   ]
  },
  {
   "cell_type": "code",
   "execution_count": 61,
   "id": "8aa5a88a",
   "metadata": {},
   "outputs": [],
   "source": [
    "df_scores = pd.DataFrame(scores, columns=['n_estimators', 'auc'])"
   ]
  },
  {
   "cell_type": "code",
   "execution_count": 62,
   "id": "0dbadd5b",
   "metadata": {},
   "outputs": [
    {
     "data": {
      "text/html": [
       "<div>\n",
       "<style scoped>\n",
       "    .dataframe tbody tr th:only-of-type {\n",
       "        vertical-align: middle;\n",
       "    }\n",
       "\n",
       "    .dataframe tbody tr th {\n",
       "        vertical-align: top;\n",
       "    }\n",
       "\n",
       "    .dataframe thead th {\n",
       "        text-align: right;\n",
       "    }\n",
       "</style>\n",
       "<table border=\"1\" class=\"dataframe\">\n",
       "  <thead>\n",
       "    <tr style=\"text-align: right;\">\n",
       "      <th></th>\n",
       "      <th>n_estimators</th>\n",
       "      <th>auc</th>\n",
       "    </tr>\n",
       "  </thead>\n",
       "  <tbody>\n",
       "    <tr>\n",
       "      <th>3</th>\n",
       "      <td>40</td>\n",
       "      <td>0.941455</td>\n",
       "    </tr>\n",
       "    <tr>\n",
       "      <th>6</th>\n",
       "      <td>70</td>\n",
       "      <td>0.939866</td>\n",
       "    </tr>\n",
       "    <tr>\n",
       "      <th>8</th>\n",
       "      <td>90</td>\n",
       "      <td>0.939336</td>\n",
       "    </tr>\n",
       "    <tr>\n",
       "      <th>18</th>\n",
       "      <td>190</td>\n",
       "      <td>0.938912</td>\n",
       "    </tr>\n",
       "    <tr>\n",
       "      <th>7</th>\n",
       "      <td>80</td>\n",
       "      <td>0.938877</td>\n",
       "    </tr>\n",
       "    <tr>\n",
       "      <th>19</th>\n",
       "      <td>200</td>\n",
       "      <td>0.938806</td>\n",
       "    </tr>\n",
       "    <tr>\n",
       "      <th>4</th>\n",
       "      <td>50</td>\n",
       "      <td>0.938489</td>\n",
       "    </tr>\n",
       "    <tr>\n",
       "      <th>11</th>\n",
       "      <td>120</td>\n",
       "      <td>0.938418</td>\n",
       "    </tr>\n",
       "    <tr>\n",
       "      <th>17</th>\n",
       "      <td>180</td>\n",
       "      <td>0.938312</td>\n",
       "    </tr>\n",
       "    <tr>\n",
       "      <th>1</th>\n",
       "      <td>20</td>\n",
       "      <td>0.938242</td>\n",
       "    </tr>\n",
       "    <tr>\n",
       "      <th>12</th>\n",
       "      <td>130</td>\n",
       "      <td>0.937747</td>\n",
       "    </tr>\n",
       "    <tr>\n",
       "      <th>16</th>\n",
       "      <td>170</td>\n",
       "      <td>0.937606</td>\n",
       "    </tr>\n",
       "    <tr>\n",
       "      <th>9</th>\n",
       "      <td>100</td>\n",
       "      <td>0.937535</td>\n",
       "    </tr>\n",
       "    <tr>\n",
       "      <th>10</th>\n",
       "      <td>110</td>\n",
       "      <td>0.937465</td>\n",
       "    </tr>\n",
       "    <tr>\n",
       "      <th>5</th>\n",
       "      <td>60</td>\n",
       "      <td>0.937394</td>\n",
       "    </tr>\n",
       "    <tr>\n",
       "      <th>15</th>\n",
       "      <td>160</td>\n",
       "      <td>0.937182</td>\n",
       "    </tr>\n",
       "    <tr>\n",
       "      <th>14</th>\n",
       "      <td>150</td>\n",
       "      <td>0.936547</td>\n",
       "    </tr>\n",
       "    <tr>\n",
       "      <th>13</th>\n",
       "      <td>140</td>\n",
       "      <td>0.936370</td>\n",
       "    </tr>\n",
       "    <tr>\n",
       "      <th>2</th>\n",
       "      <td>30</td>\n",
       "      <td>0.935629</td>\n",
       "    </tr>\n",
       "    <tr>\n",
       "      <th>0</th>\n",
       "      <td>10</td>\n",
       "      <td>0.925777</td>\n",
       "    </tr>\n",
       "  </tbody>\n",
       "</table>\n",
       "</div>"
      ],
      "text/plain": [
       "    n_estimators       auc\n",
       "3             40  0.941455\n",
       "6             70  0.939866\n",
       "8             90  0.939336\n",
       "18           190  0.938912\n",
       "7             80  0.938877\n",
       "19           200  0.938806\n",
       "4             50  0.938489\n",
       "11           120  0.938418\n",
       "17           180  0.938312\n",
       "1             20  0.938242\n",
       "12           130  0.937747\n",
       "16           170  0.937606\n",
       "9            100  0.937535\n",
       "10           110  0.937465\n",
       "5             60  0.937394\n",
       "15           160  0.937182\n",
       "14           150  0.936547\n",
       "13           140  0.936370\n",
       "2             30  0.935629\n",
       "0             10  0.925777"
      ]
     },
     "execution_count": 62,
     "metadata": {},
     "output_type": "execute_result"
    }
   ],
   "source": [
    "df_scores.sort_values('auc',ascending=False)"
   ]
  },
  {
   "cell_type": "code",
   "execution_count": 63,
   "id": "543afe86",
   "metadata": {},
   "outputs": [
    {
     "data": {
      "text/plain": [
       "[<matplotlib.lines.Line2D at 0x14bd4571700>]"
      ]
     },
     "execution_count": 63,
     "metadata": {},
     "output_type": "execute_result"
    },
    {
     "data": {
      "image/png": "[encoded data removed]",
      "text/plain": [
       "<Figure size 1152x360 with 1 Axes>"
      ]
     },
     "metadata": {},
     "output_type": "display_data"
    }
   ],
   "source": [
    "plt.plot(df_scores.n_estimators, df_scores.auc)"
   ]
  },
  {
   "cell_type": "code",
   "execution_count": 64,
   "id": "bfffd946",
   "metadata": {},
   "outputs": [],
   "source": [
    "scores = []\n",
    "\n",
    "for d in [5, 10, 15]:\n",
    "    for n in range(10, 201, 10):\n",
    "        rf = RandomForestClassifier(n_estimators=n,\n",
    "                                    max_depth=d,\n",
    "                                    random_state=1)\n",
    "        rf.fit(X_train, y_train)\n",
    "\n",
    "        y_pred = rf.predict_proba(X_val)[:, 1]\n",
    "        auc = roc_auc_score(y_val, y_pred)\n",
    "\n",
    "        scores.append((d, n, auc))"
   ]
  },
  {
   "cell_type": "code",
   "execution_count": 65,
   "id": "b562bffd",
   "metadata": {},
   "outputs": [],
   "source": [
    "columns = ['max_depth', 'n_estimators', 'auc']\n",
    "df_scores = pd.DataFrame(scores, columns=columns)"
   ]
  },
  {
   "cell_type": "code",
   "execution_count": 66,
   "id": "38ebcc20",
   "metadata": {},
   "outputs": [
    {
     "data": {
      "text/plain": [
       "<matplotlib.legend.Legend at 0x14bd44f7910>"
      ]
     },
     "execution_count": 66,
     "metadata": {},
     "output_type": "execute_result"
    },
    {
     "data": {
      "image/png": "[encoded data removed]",
      "text/plain": [
       "<Figure size 1152x360 with 1 Axes>"
      ]
     },
     "metadata": {},
     "output_type": "display_data"
    }
   ],
   "source": [
    "for d in [5, 10, 15]:\n",
    "    df_subset = df_scores[df_scores.max_depth == d]\n",
    "    \n",
    "    plt.plot(df_subset.n_estimators, df_subset.auc,\n",
    "             label='max_depth=%d' % d)\n",
    "\n",
    "plt.legend()"
   ]
  },
  {
   "cell_type": "code",
   "execution_count": 67,
   "id": "0a972455",
   "metadata": {},
   "outputs": [],
   "source": [
    "max_depth = 15"
   ]
  },
  {
   "cell_type": "code",
   "execution_count": 68,
   "id": "98fd4e12",
   "metadata": {},
   "outputs": [],
   "source": [
    "scores = []\n",
    "\n",
    "for s in [1, 3, 5, 10, 50]:\n",
    "    for n in range(10, 201, 10):\n",
    "        rf = RandomForestClassifier(n_estimators=n,\n",
    "                                    max_depth=max_depth,\n",
    "                                    min_samples_leaf=s,\n",
    "                                    random_state=1)\n",
    "        rf.fit(X_train, y_train)\n",
    "\n",
    "        y_pred = rf.predict_proba(X_val)[:, 1]\n",
    "        auc = roc_auc_score(y_val, y_pred)\n",
    "\n",
    "        scores.append((s, n, auc))"
   ]
  },
  {
   "cell_type": "code",
   "execution_count": 69,
   "id": "1e7a83fe",
   "metadata": {},
   "outputs": [],
   "source": [
    "columns = ['min_samples_leaf', 'n_estimators', 'auc']\n",
    "df_scores = pd.DataFrame(scores, columns=columns)"
   ]
  },
  {
   "cell_type": "code",
   "execution_count": 70,
   "id": "6172f47a",
   "metadata": {},
   "outputs": [
    {
     "data": {
      "text/plain": [
       "<matplotlib.legend.Legend at 0x14bd4b82250>"
      ]
     },
     "execution_count": 70,
     "metadata": {},
     "output_type": "execute_result"
    },
    {
     "data": {
      "image/png": "[encoded data removed]",
      "text/plain": [
       "<Figure size 1152x360 with 1 Axes>"
      ]
     },
     "metadata": {},
     "output_type": "display_data"
    }
   ],
   "source": [
    "colors = ['black', 'blue', 'orange', 'red', 'grey']\n",
    "values = [1, 3, 5, 10, 50]\n",
    "\n",
    "for s, col in zip(values, colors):\n",
    "    df_subset = df_scores[df_scores.min_samples_leaf == s]\n",
    "    \n",
    "    plt.plot(df_subset.n_estimators, df_subset.auc,\n",
    "             color=col,\n",
    "             label='min_samples_leaf=%d' % s)\n",
    "\n",
    "plt.legend()"
   ]
  },
  {
   "cell_type": "code",
   "execution_count": 71,
   "id": "4fb26d33",
   "metadata": {},
   "outputs": [],
   "source": [
    "min_samples_leaf = 1"
   ]
  },
  {
   "cell_type": "code",
   "execution_count": 72,
   "id": "92c91829",
   "metadata": {},
   "outputs": [
    {
     "data": {
      "text/plain": [
       "RandomForestClassifier(bootstrap=False, max_depth=15, n_estimators=40,\n",
       "                       random_state=1)"
      ]
     },
     "execution_count": 72,
     "metadata": {},
     "output_type": "execute_result"
    }
   ],
   "source": [
    "rf = RandomForestClassifier(n_estimators=40,\n",
    "                            max_depth=max_depth,\n",
    "                            min_samples_leaf=min_samples_leaf,\n",
    "                            bootstrap=False,\n",
    "                            random_state=1)\n",
    "rf.fit(X_train, y_train)"
   ]
  },
  {
   "cell_type": "code",
   "execution_count": 73,
   "id": "8f0422a2",
   "metadata": {},
   "outputs": [
    {
     "data": {
      "text/plain": [
       "0.9475988700564972"
      ]
     },
     "execution_count": 73,
     "metadata": {},
     "output_type": "execute_result"
    }
   ],
   "source": [
    "y_pred = rf.predict_proba(X_val)[:, 1]\n",
    "y_pred_p = rf.predict(X_val)\n",
    "roc_auc_score(y_val, y_pred)"
   ]
  },
  {
   "cell_type": "code",
   "execution_count": 74,
   "id": "b50514d1",
   "metadata": {},
   "outputs": [
    {
     "name": "stdout",
     "output_type": "stream",
     "text": [
      "accuracy score for RF: 0.8865546218487395\n",
      "Precision score for RF: 0.872\n",
      "Recall score for RF: 0.9083333333333333\n",
      "F1 score for RF: 0.889795918367347\n",
      "Classification report for RF: \n",
      "              precision    recall  f1-score   support\n",
      "\n",
      "           0       0.90      0.86      0.88       118\n",
      "           1       0.87      0.91      0.89       120\n",
      "\n",
      "    accuracy                           0.89       238\n",
      "   macro avg       0.89      0.89      0.89       238\n",
      "weighted avg       0.89      0.89      0.89       238\n",
      "\n",
      "Confusion matrix for RF: \n",
      "[[102  16]\n",
      " [ 11 109]]\n",
      "\n",
      "Auc score for RF : 0.9475988700564972\n"
     ]
    },
    {
     "data": {
      "text/plain": [
       "<matplotlib.legend.Legend at 0x14bd4cb3f40>"
      ]
     },
     "execution_count": 74,
     "metadata": {},
     "output_type": "execute_result"
    },
    {
     "data": {
      "image/png": "[encoded data removed]",
      "text/plain": [
       "<Figure size 360x360 with 1 Axes>"
      ]
     },
     "metadata": {},
     "output_type": "display_data"
    }
   ],
   "source": [
    "print (\"accuracy score for RF: {}\".format(accuracy_score(y_val, y_pred_p)))\n",
    "print(\"Precision score for RF: {}\".format(precision_score(y_val,y_pred_p)))\n",
    "print(\"Recall score for RF: {}\".format(recall_score(y_val,y_pred_p)))\n",
    "print(\"F1 score for RF: {}\".format(f1_score(y_val,y_pred_p)))\n",
    "print(\"Classification report for RF: \\n{}\".format(classification_report(y_val, y_pred_p)))\n",
    "print(\"Confusion matrix for RF: \\n{}\".format(confusion_matrix(y_val, y_pred_p)))\n",
    "print()\n",
    "print(f'Auc score for RF : {roc_auc_score(y_val, y_pred)}')\n",
    "fpr, tpr, thresholds = roc_curve(y_val, y_pred)\n",
    "plt.figure(figsize=(5, 5))\n",
    "\n",
    "plt.plot(fpr, tpr, label='Random Forest Model',color= 'green')\n",
    "plt.plot([0, 1], [0, 1], label='Random', linestyle='--')\n",
    "\n",
    "plt.xlabel('FPR')\n",
    "plt.ylabel('TPR')\n",
    "plt.title('ROC curve (RF-Model)')\n",
    "\n",
    "plt.legend()"
   ]
  },
  {
   "cell_type": "markdown",
   "id": "4e4fc999",
   "metadata": {},
   "source": [
    "## Cross validation Random Forest"
   ]
  },
  {
   "cell_type": "code",
   "execution_count": 75,
   "id": "cf05272e",
   "metadata": {},
   "outputs": [],
   "source": [
    "def train_rf(df_train, y_train, C=1.0):\n",
    "    dicts = df_train[categorical + numerical].to_dict(orient='records')\n",
    "\n",
    "    dv = DictVectorizer(sparse=False)\n",
    "    X_train = dv.fit_transform(dicts)\n",
    "\n",
    "    model = RandomForestClassifier(n_estimators=40,\n",
    "                            max_depth=max_depth,\n",
    "                            min_samples_leaf=min_samples_leaf,\n",
    "                            bootstrap=False,\n",
    "                            random_state=1)\n",
    "    model.fit(X_train, y_train)\n",
    "    \n",
    "    return dv, model"
   ]
  },
  {
   "cell_type": "code",
   "execution_count": 76,
   "id": "6cd549f7",
   "metadata": {},
   "outputs": [],
   "source": [
    "def predict_rf(df, dv, model):\n",
    "    dicts = df[categorical + numerical].to_dict(orient='records')\n",
    "\n",
    "    X = dv.transform(dicts)\n",
    "    y_pred = model.predict_proba(X)[:, 1]\n",
    "\n",
    "    return y_pred"
   ]
  },
  {
   "cell_type": "code",
   "execution_count": 77,
   "id": "19f3e644",
   "metadata": {},
   "outputs": [
    {
     "data": {
      "application/vnd.jupyter.widget-view+json": {
       "model_id": "9e64331e710b4073ac67662356205e72",
       "version_major": 2,
       "version_minor": 0
      },
      "text/plain": [
       "  0%|          | 0/7 [00:00<?, ?it/s]"
      ]
     },
     "metadata": {},
     "output_type": "display_data"
    },
    {
     "name": "stdout",
     "output_type": "stream",
     "text": [
      "C=0.001 0.956 +- 0.010\n",
      "C=0.01 0.956 +- 0.010\n",
      "C=0.1 0.956 +- 0.010\n",
      "C=0.5 0.956 +- 0.010\n",
      "C=1 0.956 +- 0.010\n",
      "C=5 0.956 +- 0.010\n",
      "C=10 0.956 +- 0.010\n"
     ]
    }
   ],
   "source": [
    "n_splits = 5\n",
    "\n",
    "for C in tqdm([0.001, 0.01, 0.1, 0.5, 1, 5, 10]):\n",
    "    kfold = KFold(n_splits=n_splits, shuffle=True, random_state=1)\n",
    "\n",
    "    scores = []\n",
    "\n",
    "    for train_idx, val_idx in kfold.split(df_full_train):\n",
    "        df_train_cv = df_full_train.iloc[train_idx]\n",
    "        df_val_cv = df_full_train.iloc[val_idx]\n",
    "\n",
    "        y_train_cv = df_train_cv.heart_diesease.values\n",
    "        y_val_cv = df_val_cv.heart_diesease.values\n",
    "\n",
    "        dv, model = train_rf(df_train_cv, y_train_cv, C=C)\n",
    "        y_pred_cv = predict_rf(df_val_cv, dv, model)\n",
    "\n",
    "        auc = roc_auc_score(y_val_cv, y_pred_cv)\n",
    "        scores.append(auc)\n",
    "\n",
    "    print('C=%s %.3f +- %.3f' % (C, np.mean(scores), np.std(scores)))"
   ]
  },
  {
   "cell_type": "code",
   "execution_count": 78,
   "id": "8a422d2f",
   "metadata": {},
   "outputs": [
    {
     "name": "stdout",
     "output_type": "stream",
     "text": [
      "Random forest CV auc scores:\n",
      " [0.9474780701754386, 0.9750841750841751, 0.9506706573550605, 0.9498114463176575, 0.9581154744687952]\n",
      "\n",
      "Random forest CV Scores mean: 0.956\n",
      "\n",
      "Random forest CV Scores standard deviation: 0.01\n"
     ]
    }
   ],
   "source": [
    "print(f'Random forest CV auc scores:\\n {scores}\\n')\n",
    "print(f'Random forest CV Scores mean: {round(np.mean(scores),3)}\\n')\n",
    "print(f'Random forest CV Scores standard deviation: {round(np.std(scores),3)}')"
   ]
  },
  {
   "cell_type": "markdown",
   "id": "0b8c5955",
   "metadata": {},
   "source": [
    "`After Cross validation, Random forest has mean auc score of 0.956 and standard deviation of 0.01`"
   ]
  },
  {
   "cell_type": "markdown",
   "id": "49ae02b1",
   "metadata": {},
   "source": [
    "## Extra trees classification\n",
    "* lets train a base model"
   ]
  },
  {
   "cell_type": "code",
   "execution_count": 79,
   "id": "8e761f40",
   "metadata": {},
   "outputs": [
    {
     "data": {
      "text/plain": [
       "ExtraTreesClassifier(n_estimators=10, random_state=1)"
      ]
     },
     "execution_count": 79,
     "metadata": {},
     "output_type": "execute_result"
    }
   ],
   "source": [
    "et = ExtraTreesClassifier(n_estimators=10, max_depth=None,min_samples_split=2, random_state=1)\n",
    "et.fit(X_train, y_train)"
   ]
  },
  {
   "cell_type": "code",
   "execution_count": 80,
   "id": "b110acce",
   "metadata": {},
   "outputs": [
    {
     "data": {
      "text/plain": [
       "0.9516949152542373"
      ]
     },
     "execution_count": 80,
     "metadata": {},
     "output_type": "execute_result"
    }
   ],
   "source": [
    "y_pred = et.predict_proba(X_val)[:, 1]\n",
    "y_pred_p = et.predict(X_val)\n",
    "roc_auc_score(y_val, y_pred)"
   ]
  },
  {
   "cell_type": "markdown",
   "id": "9c205429",
   "metadata": {},
   "source": [
    "### Lets do the parameter tuning"
   ]
  },
  {
   "cell_type": "code",
   "execution_count": 81,
   "id": "e290d190",
   "metadata": {},
   "outputs": [
    {
     "name": "stdout",
     "output_type": "stream",
     "text": [
      "CPU times: total: 1.09 s\n",
      "Wall time: 1.75 s\n"
     ]
    }
   ],
   "source": [
    "%%time\n",
    "scores = []\n",
    "\n",
    "for n in range(10, 201, 10):\n",
    "    et = ExtraTreesClassifier(n_estimators=n,random_state=1)\n",
    "    et.fit(X_train, y_train)\n",
    "\n",
    "    y_pred = et.predict_proba(X_val)[:, 1]\n",
    "    auc = roc_auc_score(y_val, y_pred)\n",
    "    \n",
    "    scores.append((n, auc))"
   ]
  },
  {
   "cell_type": "code",
   "execution_count": 82,
   "id": "6837d72e",
   "metadata": {},
   "outputs": [],
   "source": [
    "df_scores = pd.DataFrame(scores, columns=['n_estimators', 'auc'])"
   ]
  },
  {
   "cell_type": "code",
   "execution_count": 83,
   "id": "0947c9b7",
   "metadata": {},
   "outputs": [
    {
     "data": {
      "text/html": [
       "<div>\n",
       "<style scoped>\n",
       "    .dataframe tbody tr th:only-of-type {\n",
       "        vertical-align: middle;\n",
       "    }\n",
       "\n",
       "    .dataframe tbody tr th {\n",
       "        vertical-align: top;\n",
       "    }\n",
       "\n",
       "    .dataframe thead th {\n",
       "        text-align: right;\n",
       "    }\n",
       "</style>\n",
       "<table border=\"1\" class=\"dataframe\">\n",
       "  <thead>\n",
       "    <tr style=\"text-align: right;\">\n",
       "      <th></th>\n",
       "      <th>n_estimators</th>\n",
       "      <th>auc</th>\n",
       "    </tr>\n",
       "  </thead>\n",
       "  <tbody>\n",
       "    <tr>\n",
       "      <th>4</th>\n",
       "      <td>50</td>\n",
       "      <td>0.957592</td>\n",
       "    </tr>\n",
       "    <tr>\n",
       "      <th>3</th>\n",
       "      <td>40</td>\n",
       "      <td>0.957521</td>\n",
       "    </tr>\n",
       "    <tr>\n",
       "      <th>7</th>\n",
       "      <td>80</td>\n",
       "      <td>0.957451</td>\n",
       "    </tr>\n",
       "    <tr>\n",
       "      <th>6</th>\n",
       "      <td>70</td>\n",
       "      <td>0.956815</td>\n",
       "    </tr>\n",
       "    <tr>\n",
       "      <th>5</th>\n",
       "      <td>60</td>\n",
       "      <td>0.956427</td>\n",
       "    </tr>\n",
       "    <tr>\n",
       "      <th>8</th>\n",
       "      <td>90</td>\n",
       "      <td>0.955614</td>\n",
       "    </tr>\n",
       "    <tr>\n",
       "      <th>9</th>\n",
       "      <td>100</td>\n",
       "      <td>0.955438</td>\n",
       "    </tr>\n",
       "    <tr>\n",
       "      <th>11</th>\n",
       "      <td>120</td>\n",
       "      <td>0.954449</td>\n",
       "    </tr>\n",
       "    <tr>\n",
       "      <th>10</th>\n",
       "      <td>110</td>\n",
       "      <td>0.954343</td>\n",
       "    </tr>\n",
       "    <tr>\n",
       "      <th>13</th>\n",
       "      <td>140</td>\n",
       "      <td>0.953884</td>\n",
       "    </tr>\n",
       "    <tr>\n",
       "      <th>12</th>\n",
       "      <td>130</td>\n",
       "      <td>0.953778</td>\n",
       "    </tr>\n",
       "    <tr>\n",
       "      <th>2</th>\n",
       "      <td>30</td>\n",
       "      <td>0.953390</td>\n",
       "    </tr>\n",
       "    <tr>\n",
       "      <th>14</th>\n",
       "      <td>150</td>\n",
       "      <td>0.953319</td>\n",
       "    </tr>\n",
       "    <tr>\n",
       "      <th>18</th>\n",
       "      <td>190</td>\n",
       "      <td>0.953178</td>\n",
       "    </tr>\n",
       "    <tr>\n",
       "      <th>17</th>\n",
       "      <td>180</td>\n",
       "      <td>0.953107</td>\n",
       "    </tr>\n",
       "    <tr>\n",
       "      <th>16</th>\n",
       "      <td>170</td>\n",
       "      <td>0.953072</td>\n",
       "    </tr>\n",
       "    <tr>\n",
       "      <th>19</th>\n",
       "      <td>200</td>\n",
       "      <td>0.953001</td>\n",
       "    </tr>\n",
       "    <tr>\n",
       "      <th>15</th>\n",
       "      <td>160</td>\n",
       "      <td>0.952472</td>\n",
       "    </tr>\n",
       "    <tr>\n",
       "      <th>1</th>\n",
       "      <td>20</td>\n",
       "      <td>0.952083</td>\n",
       "    </tr>\n",
       "    <tr>\n",
       "      <th>0</th>\n",
       "      <td>10</td>\n",
       "      <td>0.951695</td>\n",
       "    </tr>\n",
       "  </tbody>\n",
       "</table>\n",
       "</div>"
      ],
      "text/plain": [
       "    n_estimators       auc\n",
       "4             50  0.957592\n",
       "3             40  0.957521\n",
       "7             80  0.957451\n",
       "6             70  0.956815\n",
       "5             60  0.956427\n",
       "8             90  0.955614\n",
       "9            100  0.955438\n",
       "11           120  0.954449\n",
       "10           110  0.954343\n",
       "13           140  0.953884\n",
       "12           130  0.953778\n",
       "2             30  0.953390\n",
       "14           150  0.953319\n",
       "18           190  0.953178\n",
       "17           180  0.953107\n",
       "16           170  0.953072\n",
       "19           200  0.953001\n",
       "15           160  0.952472\n",
       "1             20  0.952083\n",
       "0             10  0.951695"
      ]
     },
     "execution_count": 83,
     "metadata": {},
     "output_type": "execute_result"
    }
   ],
   "source": [
    "df_scores.sort_values('auc',ascending=False)"
   ]
  },
  {
   "cell_type": "code",
   "execution_count": 84,
   "id": "4342efc5",
   "metadata": {},
   "outputs": [
    {
     "data": {
      "text/plain": [
       "[<matplotlib.lines.Line2D at 0x14bd4f40760>]"
      ]
     },
     "execution_count": 84,
     "metadata": {},
     "output_type": "execute_result"
    },
    {
     "data": {
      "image/png": "[encoded data removed]",
      "text/plain": [
       "<Figure size 1152x360 with 1 Axes>"
      ]
     },
     "metadata": {},
     "output_type": "display_data"
    }
   ],
   "source": [
    "plt.plot(df_scores.n_estimators, df_scores.auc)"
   ]
  },
  {
   "cell_type": "code",
   "execution_count": 85,
   "id": "b1d9cc8c",
   "metadata": {},
   "outputs": [],
   "source": [
    "scores = []\n",
    "\n",
    "for d in [5, 10, 15]:\n",
    "    for n in range(10, 201, 10):\n",
    "        et = ExtraTreesClassifier(n_estimators=n,\n",
    "                                    max_depth=d,\n",
    "                                    random_state=1)\n",
    "        et.fit(X_train, y_train)\n",
    "\n",
    "        y_pred = et.predict_proba(X_val)[:, 1]\n",
    "        auc = roc_auc_score(y_val, y_pred)\n",
    "\n",
    "        scores.append((d, n, auc))"
   ]
  },
  {
   "cell_type": "code",
   "execution_count": 86,
   "id": "59855dbe",
   "metadata": {},
   "outputs": [],
   "source": [
    "columns = ['max_depth', 'n_estimators', 'auc']\n",
    "df_scores = pd.DataFrame(scores, columns=columns)"
   ]
  },
  {
   "cell_type": "code",
   "execution_count": 87,
   "id": "7072651b",
   "metadata": {},
   "outputs": [
    {
     "data": {
      "text/plain": [
       "<matplotlib.legend.Legend at 0x14bd4b71d90>"
      ]
     },
     "execution_count": 87,
     "metadata": {},
     "output_type": "execute_result"
    },
    {
     "data": {
      "image/png": "[encoded data removed]",
      "text/plain": [
       "<Figure size 1152x360 with 1 Axes>"
      ]
     },
     "metadata": {},
     "output_type": "display_data"
    }
   ],
   "source": [
    "for d in [5, 10, 15]:\n",
    "    df_subset = df_scores[df_scores.max_depth == d]\n",
    "    \n",
    "    plt.plot(df_subset.n_estimators, df_subset.auc,\n",
    "             label='max_depth=%d' % d)\n",
    "\n",
    "plt.legend()"
   ]
  },
  {
   "cell_type": "code",
   "execution_count": 88,
   "id": "f96ff7dd",
   "metadata": {},
   "outputs": [],
   "source": [
    "max_depth = 15"
   ]
  },
  {
   "cell_type": "code",
   "execution_count": 89,
   "id": "4f4dde03",
   "metadata": {},
   "outputs": [],
   "source": [
    "scores = []\n",
    "\n",
    "for s in [1, 3, 5, 10, 50]:\n",
    "    for n in range(10, 201, 10):\n",
    "        et = ExtraTreesClassifier(n_estimators=n,\n",
    "                                    max_depth=max_depth,\n",
    "                                    min_samples_leaf=s,\n",
    "                                    random_state=1)\n",
    "        et.fit(X_train, y_train)\n",
    "\n",
    "        y_pred = et.predict_proba(X_val)[:, 1]\n",
    "        auc = roc_auc_score(y_val, y_pred)\n",
    "\n",
    "        scores.append((s, n, auc))"
   ]
  },
  {
   "cell_type": "code",
   "execution_count": 90,
   "id": "ece7072d",
   "metadata": {},
   "outputs": [],
   "source": [
    "columns = ['min_samples_leaf', 'n_estimators', 'auc']\n",
    "df_scores = pd.DataFrame(scores, columns=columns)"
   ]
  },
  {
   "cell_type": "code",
   "execution_count": 91,
   "id": "0a0bfd1f",
   "metadata": {},
   "outputs": [
    {
     "data": {
      "text/plain": [
       "<matplotlib.legend.Legend at 0x14bd3fa76d0>"
      ]
     },
     "execution_count": 91,
     "metadata": {},
     "output_type": "execute_result"
    },
    {
     "data": {
      "image/png": "[encoded data removed]",
      "text/plain": [
       "<Figure size 1152x360 with 1 Axes>"
      ]
     },
     "metadata": {},
     "output_type": "display_data"
    }
   ],
   "source": [
    "colors = ['black', 'blue', 'orange', 'red', 'grey']\n",
    "values = [1, 3, 5, 10, 50]\n",
    "\n",
    "for s, col in zip(values, colors):\n",
    "    df_subset = df_scores[df_scores.min_samples_leaf == s]\n",
    "    \n",
    "    plt.plot(df_subset.n_estimators, df_subset.auc,\n",
    "             color=col,\n",
    "             label='min_samples_leaf=%d' % s)\n",
    "\n",
    "plt.legend()"
   ]
  },
  {
   "cell_type": "code",
   "execution_count": 92,
   "id": "66b8f28c",
   "metadata": {},
   "outputs": [],
   "source": [
    "min_samples_leaf = 1"
   ]
  },
  {
   "cell_type": "code",
   "execution_count": 93,
   "id": "175b9544",
   "metadata": {},
   "outputs": [
    {
     "data": {
      "text/plain": [
       "ExtraTreesClassifier(n_estimators=50, random_state=1)"
      ]
     },
     "execution_count": 93,
     "metadata": {},
     "output_type": "execute_result"
    }
   ],
   "source": [
    "et = ExtraTreesClassifier(n_estimators=50,\n",
    "                            min_samples_leaf=min_samples_leaf,\n",
    "                            random_state=1)\n",
    "et.fit(X_train, y_train)"
   ]
  },
  {
   "cell_type": "code",
   "execution_count": 94,
   "id": "ad42ca6f",
   "metadata": {},
   "outputs": [
    {
     "data": {
      "text/plain": [
       "0.9575918079096044"
      ]
     },
     "execution_count": 94,
     "metadata": {},
     "output_type": "execute_result"
    }
   ],
   "source": [
    "y_pred = et.predict_proba(X_val)[:, 1]\n",
    "y_pred_p = et.predict(X_val)\n",
    "roc_auc_score(y_val, y_pred)"
   ]
  },
  {
   "cell_type": "code",
   "execution_count": 95,
   "id": "29e19d3a",
   "metadata": {},
   "outputs": [
    {
     "name": "stdout",
     "output_type": "stream",
     "text": [
      "accuracy score for ET: 0.8865546218487395\n",
      "Precision score for ET: 0.8780487804878049\n",
      "Recall score for ET: 0.9\n",
      "F1 score for ET: 0.888888888888889\n",
      "Classification report for ET: \n",
      "              precision    recall  f1-score   support\n",
      "\n",
      "           0       0.90      0.87      0.88       118\n",
      "           1       0.88      0.90      0.89       120\n",
      "\n",
      "    accuracy                           0.89       238\n",
      "   macro avg       0.89      0.89      0.89       238\n",
      "weighted avg       0.89      0.89      0.89       238\n",
      "\n",
      "Confusion matrix for ET: \n",
      "[[103  15]\n",
      " [ 12 108]]\n",
      "\n",
      "Auc score for ET : 0.9575918079096044\n"
     ]
    },
    {
     "data": {
      "text/plain": [
       "<matplotlib.legend.Legend at 0x14bd6278790>"
      ]
     },
     "execution_count": 95,
     "metadata": {},
     "output_type": "execute_result"
    },
    {
     "data": {
      "image/png": "[encoded data removed]",
      "text/plain": [
       "<Figure size 360x360 with 1 Axes>"
      ]
     },
     "metadata": {},
     "output_type": "display_data"
    }
   ],
   "source": [
    "print (\"accuracy score for ET: {}\".format(accuracy_score(y_val, y_pred_p)))\n",
    "print(\"Precision score for ET: {}\".format(precision_score(y_val,y_pred_p)))\n",
    "print(\"Recall score for ET: {}\".format(recall_score(y_val,y_pred_p)))\n",
    "print(\"F1 score for ET: {}\".format(f1_score(y_val,y_pred_p)))\n",
    "print(\"Classification report for ET: \\n{}\".format(classification_report(y_val, y_pred_p)))\n",
    "print(\"Confusion matrix for ET: \\n{}\".format(confusion_matrix(y_val, y_pred_p)))\n",
    "print()\n",
    "print(f'Auc score for ET : {roc_auc_score(y_val, y_pred)}')\n",
    "fpr, tpr, thresholds = roc_curve(y_val, y_pred)\n",
    "plt.figure(figsize=(5, 5))\n",
    "\n",
    "plt.plot(fpr, tpr, label='Extra tree Model',color= 'cyan')\n",
    "plt.plot([0, 1], [0, 1], label='Random', linestyle='--')\n",
    "\n",
    "plt.xlabel('FPR')\n",
    "plt.ylabel('TPR')\n",
    "plt.title('ROC curve (ET-Model)')\n",
    "\n",
    "plt.legend()"
   ]
  },
  {
   "cell_type": "markdown",
   "id": "722bcb1a",
   "metadata": {},
   "source": [
    "## Cross validation Extra trees"
   ]
  },
  {
   "cell_type": "code",
   "execution_count": 96,
   "id": "33ef5051",
   "metadata": {},
   "outputs": [],
   "source": [
    "def train_et(df_train, y_train, C=1.0):\n",
    "    dicts = df_train[categorical + numerical].to_dict(orient='records')\n",
    "\n",
    "    dv = DictVectorizer(sparse=False)\n",
    "    X_train = dv.fit_transform(dicts)\n",
    "\n",
    "    model = ExtraTreesClassifier(n_estimators=50,\n",
    "                            min_samples_leaf=min_samples_leaf,\n",
    "                            random_state=1)\n",
    "    model.fit(X_train, y_train)\n",
    "    \n",
    "    return dv, model"
   ]
  },
  {
   "cell_type": "code",
   "execution_count": 97,
   "id": "0efcfd37",
   "metadata": {},
   "outputs": [],
   "source": [
    "def predict_et(df, dv, model):\n",
    "    dicts = df[categorical + numerical].to_dict(orient='records')\n",
    "\n",
    "    X = dv.transform(dicts)\n",
    "    y_pred = model.predict_proba(X)[:, 1]\n",
    "\n",
    "    return y_pred"
   ]
  },
  {
   "cell_type": "code",
   "execution_count": 98,
   "id": "7ebffec5",
   "metadata": {},
   "outputs": [
    {
     "data": {
      "application/vnd.jupyter.widget-view+json": {
       "model_id": "5283ceeb5d584b9e9d4ef19d6068327f",
       "version_major": 2,
       "version_minor": 0
      },
      "text/plain": [
       "  0%|          | 0/7 [00:00<?, ?it/s]"
      ]
     },
     "metadata": {},
     "output_type": "display_data"
    },
    {
     "name": "stdout",
     "output_type": "stream",
     "text": [
      "C=0.001 0.957 +- 0.010\n",
      "C=0.01 0.957 +- 0.010\n",
      "C=0.1 0.957 +- 0.010\n",
      "C=0.5 0.957 +- 0.010\n",
      "C=1 0.957 +- 0.010\n",
      "C=5 0.957 +- 0.010\n",
      "C=10 0.957 +- 0.010\n"
     ]
    }
   ],
   "source": [
    "n_splits = 5\n",
    "\n",
    "for C in tqdm([0.001, 0.01, 0.1, 0.5, 1, 5, 10]):\n",
    "    kfold = KFold(n_splits=n_splits, shuffle=True, random_state=1)\n",
    "\n",
    "    scores = []\n",
    "\n",
    "    for train_idx, val_idx in kfold.split(df_full_train):\n",
    "        df_train_cv = df_full_train.iloc[train_idx]\n",
    "        df_val_cv = df_full_train.iloc[val_idx]\n",
    "\n",
    "        y_train_cv = df_train_cv.heart_diesease.values\n",
    "        y_val_cv = df_val_cv.heart_diesease.values\n",
    "\n",
    "        dv, model = train_et(df_train_cv, y_train_cv, C=C)\n",
    "        y_pred_cv = predict_et(df_val_cv, dv, model)\n",
    "\n",
    "        auc = roc_auc_score(y_val_cv, y_pred_cv)\n",
    "        scores.append(auc)\n",
    "\n",
    "    print('C=%s %.3f +- %.3f' % (C, np.mean(scores), np.std(scores)))"
   ]
  },
  {
   "cell_type": "code",
   "execution_count": 99,
   "id": "99d419d6",
   "metadata": {},
   "outputs": [
    {
     "name": "stdout",
     "output_type": "stream",
     "text": [
      "Extra Trees CV auc scores:\n",
      " [0.9546600877192982, 0.9733445566778901, 0.9592617226471566, 0.9407165039929015, 0.9578929803092668]\n",
      "\n",
      "Extra Trees CV Scores mean: 0.957\n",
      "\n",
      "Extra Trees CV Scores standard deviation: 0.01\n"
     ]
    }
   ],
   "source": [
    "print(f'Extra Trees CV auc scores:\\n {scores}\\n')\n",
    "print(f'Extra Trees CV Scores mean: {round(np.mean(scores),3)}\\n')\n",
    "print(f'Extra Trees CV Scores standard deviation: {round(np.std(scores),3)}')"
   ]
  },
  {
   "cell_type": "markdown",
   "id": "6f2b81a9",
   "metadata": {},
   "source": [
    "`After Cross validation, Extra trees has mean auc score of 0.957 and standard deviation of 0.01`"
   ]
  },
  {
   "cell_type": "markdown",
   "id": "c04be23e",
   "metadata": {},
   "source": [
    "# Gradient boosting and XGBoost"
   ]
  },
  {
   "cell_type": "code",
   "execution_count": 100,
   "id": "1157e732",
   "metadata": {},
   "outputs": [
    {
     "name": "stderr",
     "output_type": "stream",
     "text": [
      "C:\\Users\\460484\\Anaconda3\\lib\\site-packages\\sklearn\\utils\\deprecation.py:87: FutureWarning: Function get_feature_names is deprecated; get_feature_names is deprecated in 1.0 and will be removed in 1.2. Please use get_feature_names_out instead.\n",
      "  warnings.warn(msg, category=FutureWarning)\n"
     ]
    }
   ],
   "source": [
    "features = dv.get_feature_names()\n",
    "dtrain = xgb.DMatrix(X_train, label=y_train, feature_names=features)\n",
    "dval = xgb.DMatrix(X_val, label=y_val, feature_names=features)"
   ]
  },
  {
   "cell_type": "code",
   "execution_count": 101,
   "id": "f3de47eb",
   "metadata": {},
   "outputs": [
    {
     "name": "stdout",
     "output_type": "stream",
     "text": [
      "[19:42:01] WARNING: C:\\Windows\\Temp\\abs_557yfx631l\\croots\\recipe\\xgboost-split_1659548953302\\work\\src\\learner.cc:1115: Starting in XGBoost 1.3.0, the default evaluation metric used with the objective 'binary:logistic' was changed from 'error' to 'logloss'. Explicitly set eval_metric if you'd like to restore the old behavior.\n"
     ]
    }
   ],
   "source": [
    "xgb_params = {\n",
    "    'eta': 0.3, \n",
    "    'max_depth': 6,\n",
    "    'min_child_weight': 1,\n",
    "    \n",
    "    'objective': 'binary:logistic',\n",
    "    'nthread': 8,\n",
    "    \n",
    "    'seed': 1,\n",
    "    'verbosity': 1,\n",
    "}\n",
    "\n",
    "model = xgb.train(xgb_params, dtrain, num_boost_round=15)"
   ]
  },
  {
   "cell_type": "code",
   "execution_count": 102,
   "id": "8d43a71f",
   "metadata": {},
   "outputs": [],
   "source": [
    "y_pred = model.predict(dval)"
   ]
  },
  {
   "cell_type": "code",
   "execution_count": 103,
   "id": "7e66b293",
   "metadata": {},
   "outputs": [
    {
     "data": {
      "text/plain": [
       "0.9328389830508474"
      ]
     },
     "execution_count": 103,
     "metadata": {},
     "output_type": "execute_result"
    }
   ],
   "source": [
    "roc_auc_score(y_val, y_pred)"
   ]
  },
  {
   "cell_type": "markdown",
   "id": "92996222",
   "metadata": {},
   "source": [
    "## Gradient Boosting Model finetuning"
   ]
  },
  {
   "cell_type": "code",
   "execution_count": 104,
   "id": "ff1af1e2",
   "metadata": {},
   "outputs": [],
   "source": [
    "watchlist = [(dtrain, 'train'), (dval, 'val')]"
   ]
  },
  {
   "cell_type": "code",
   "execution_count": 105,
   "id": "b0989ef0",
   "metadata": {},
   "outputs": [],
   "source": [
    "%%capture output\n",
    "\n",
    "xgb_params = {\n",
    "    'eta': 0.3, \n",
    "    'max_depth': 6,\n",
    "    'min_child_weight': 1,\n",
    "    \n",
    "    'objective': 'binary:logistic',\n",
    "    'eval_metric': 'auc',\n",
    "\n",
    "    #'nthread': 8,\n",
    "    'seed': 1,\n",
    "    'verbosity': 1,\n",
    "}\n",
    "model = xgb.train(xgb_params, dtrain, num_boost_round=200, verbose_eval=5, evals=watchlist)"
   ]
  },
  {
   "cell_type": "code",
   "execution_count": 106,
   "id": "9f7a1005",
   "metadata": {},
   "outputs": [],
   "source": [
    "s = output.stdout"
   ]
  },
  {
   "cell_type": "code",
   "execution_count": 107,
   "id": "08bb9e5b",
   "metadata": {},
   "outputs": [
    {
     "name": "stdout",
     "output_type": "stream",
     "text": [
      "[0]\ttrain-auc:0.94439\tval-auc:0.86935\n",
      "[5]\ttrain-auc:0.98660\tval-auc:0.91850\n",
      "[10]\ttrain-auc:0.99555\tval-auc:0.92818\n",
      "[15]\ttrain-auc:0.99819\tval-auc:0.93390\n",
      "[20]\ttrain-auc:0.99961\tval-auc:0.92811\n",
      "[25]\ttr\n"
     ]
    }
   ],
   "source": [
    "print(s[:200])"
   ]
  },
  {
   "cell_type": "code",
   "execution_count": 108,
   "id": "f5107c95",
   "metadata": {},
   "outputs": [],
   "source": [
    "def parse_xgb_output(output):\n",
    "    results = []\n",
    "\n",
    "    for line in output.stdout.strip().split('\\n'):\n",
    "        it_line, train_line, val_line = line.split('\\t')\n",
    "\n",
    "        it = int(it_line.strip('[]'))\n",
    "        train = float(train_line.split(':')[1])\n",
    "        val = float(val_line.split(':')[1])\n",
    "\n",
    "        results.append((it, train, val))\n",
    "    \n",
    "    columns = ['num_iter', 'train_auc', 'val_auc']\n",
    "    df_results = pd.DataFrame(results, columns=columns)\n",
    "    return df_results"
   ]
  },
  {
   "cell_type": "code",
   "execution_count": 109,
   "id": "04a3f743",
   "metadata": {},
   "outputs": [],
   "source": [
    "df_score = parse_xgb_output(output)"
   ]
  },
  {
   "cell_type": "code",
   "execution_count": 110,
   "id": "984bb2e4",
   "metadata": {},
   "outputs": [
    {
     "data": {
      "text/plain": [
       "<matplotlib.legend.Legend at 0x14bd63da4f0>"
      ]
     },
     "execution_count": 110,
     "metadata": {},
     "output_type": "execute_result"
    },
    {
     "data": {
      "image/png": "[encoded data removed]",
      "text/plain": [
       "<Figure size 1152x360 with 1 Axes>"
      ]
     },
     "metadata": {},
     "output_type": "display_data"
    }
   ],
   "source": [
    "plt.plot(df_score.num_iter, df_score.train_auc, label='train')\n",
    "plt.plot(df_score.num_iter, df_score.val_auc, label='val')\n",
    "plt.legend()"
   ]
  },
  {
   "cell_type": "code",
   "execution_count": 111,
   "id": "6c2e7af0",
   "metadata": {},
   "outputs": [
    {
     "data": {
      "text/plain": [
       "<matplotlib.legend.Legend at 0x14bd64fcf70>"
      ]
     },
     "execution_count": 111,
     "metadata": {},
     "output_type": "execute_result"
    },
    {
     "data": {
      "image/png": "[encoded data removed]",
      "text/plain": [
       "<Figure size 1152x360 with 1 Axes>"
      ]
     },
     "metadata": {},
     "output_type": "display_data"
    }
   ],
   "source": [
    "plt.plot(df_score.num_iter, df_score.val_auc, label='val')\n",
    "plt.legend()"
   ]
  },
  {
   "cell_type": "code",
   "execution_count": 112,
   "id": "3313ffa6",
   "metadata": {},
   "outputs": [
    {
     "data": {
      "text/html": [
       "<div>\n",
       "<style scoped>\n",
       "    .dataframe tbody tr th:only-of-type {\n",
       "        vertical-align: middle;\n",
       "    }\n",
       "\n",
       "    .dataframe tbody tr th {\n",
       "        vertical-align: top;\n",
       "    }\n",
       "\n",
       "    .dataframe thead th {\n",
       "        text-align: right;\n",
       "    }\n",
       "</style>\n",
       "<table border=\"1\" class=\"dataframe\">\n",
       "  <thead>\n",
       "    <tr style=\"text-align: right;\">\n",
       "      <th></th>\n",
       "      <th>num_iter</th>\n",
       "      <th>train_auc</th>\n",
       "      <th>val_auc</th>\n",
       "    </tr>\n",
       "  </thead>\n",
       "  <tbody>\n",
       "    <tr>\n",
       "      <th>3</th>\n",
       "      <td>15</td>\n",
       "      <td>0.99819</td>\n",
       "      <td>0.9339</td>\n",
       "    </tr>\n",
       "  </tbody>\n",
       "</table>\n",
       "</div>"
      ],
      "text/plain": [
       "   num_iter  train_auc  val_auc\n",
       "3        15    0.99819   0.9339"
      ]
     },
     "execution_count": 112,
     "metadata": {},
     "output_type": "execute_result"
    }
   ],
   "source": [
    "df_score[df_score.val_auc == df_score.val_auc.max()]"
   ]
  },
  {
   "cell_type": "code",
   "execution_count": 113,
   "id": "8d1150eb",
   "metadata": {},
   "outputs": [],
   "source": [
    "scores = {}\n",
    "etas = [0.01, 0.1, 0.3, 0.5]"
   ]
  },
  {
   "cell_type": "code",
   "execution_count": 114,
   "id": "019f1598",
   "metadata": {},
   "outputs": [],
   "source": [
    "%%capture output\n",
    "\n",
    "xgb_params = {\n",
    "    'eta': 0.01, \n",
    "    'max_depth': 6,\n",
    "    'min_child_weight': 1,\n",
    "    \n",
    "    'objective': 'binary:logistic',\n",
    "    'eval_metric': 'auc',\n",
    "\n",
    "    #'nthread': 8,\n",
    "    'seed': 1,\n",
    "    'verbosity': 1,\n",
    "}\n",
    "\n",
    "model = xgb.train(xgb_params, dtrain, num_boost_round=200, verbose_eval=5, evals=watchlist)"
   ]
  },
  {
   "cell_type": "code",
   "execution_count": 115,
   "id": "70d4121b",
   "metadata": {},
   "outputs": [],
   "source": [
    "scores = {}"
   ]
  },
  {
   "cell_type": "code",
   "execution_count": 116,
   "id": "8137ed39",
   "metadata": {},
   "outputs": [
    {
     "name": "stdout",
     "output_type": "stream",
     "text": [
      "key = eta=0.01\n"
     ]
    }
   ],
   "source": [
    "key = f'eta={etas[0]}'\n",
    "print(f'key = {key}')\n",
    "scores[key] = parse_xgb_output(output)"
   ]
  },
  {
   "cell_type": "code",
   "execution_count": 117,
   "id": "40db7a01",
   "metadata": {},
   "outputs": [],
   "source": [
    "%%capture output\n",
    "\n",
    "xgb_params['eta'] = etas[1]\n",
    "\n",
    "model = xgb.train(xgb_params, dtrain, num_boost_round=200, verbose_eval=5, evals=watchlist)"
   ]
  },
  {
   "cell_type": "code",
   "execution_count": 118,
   "id": "94e4cb2e",
   "metadata": {},
   "outputs": [
    {
     "name": "stdout",
     "output_type": "stream",
     "text": [
      "key = eta=0.1\n"
     ]
    }
   ],
   "source": [
    "key = f'eta={etas[1]}'\n",
    "print(f'key = {key}')\n",
    "scores[key] = parse_xgb_output(output)"
   ]
  },
  {
   "cell_type": "code",
   "execution_count": 119,
   "id": "e907bd48",
   "metadata": {},
   "outputs": [],
   "source": [
    "%%capture output\n",
    "\n",
    "xgb_params['eta'] = etas[2]\n",
    "\n",
    "model = xgb.train(xgb_params, dtrain, num_boost_round=200, verbose_eval=5, evals=watchlist)"
   ]
  },
  {
   "cell_type": "code",
   "execution_count": 120,
   "id": "414c6b60",
   "metadata": {},
   "outputs": [
    {
     "name": "stdout",
     "output_type": "stream",
     "text": [
      "key = eta=0.3\n"
     ]
    }
   ],
   "source": [
    "key = f'eta={etas[2]}'\n",
    "print(f'key = {key}')\n",
    "scores[key] = parse_xgb_output(output)"
   ]
  },
  {
   "cell_type": "code",
   "execution_count": 121,
   "id": "a09ec5d2",
   "metadata": {},
   "outputs": [],
   "source": [
    "%%capture output\n",
    "\n",
    "xgb_params['eta'] = etas[3]\n",
    "\n",
    "model = xgb.train(xgb_params, dtrain, num_boost_round=200, verbose_eval=5, evals=watchlist)"
   ]
  },
  {
   "cell_type": "code",
   "execution_count": 122,
   "id": "c9f30148",
   "metadata": {},
   "outputs": [
    {
     "name": "stdout",
     "output_type": "stream",
     "text": [
      "key = eta=0.5\n"
     ]
    }
   ],
   "source": [
    "key = f'eta={etas[3]}'\n",
    "print(f'key = {key}')\n",
    "scores[key] = parse_xgb_output(output)"
   ]
  },
  {
   "cell_type": "code",
   "execution_count": 123,
   "id": "6f21fbb8",
   "metadata": {},
   "outputs": [
    {
     "data": {
      "text/plain": [
       "dict_keys(['eta=0.01', 'eta=0.1', 'eta=0.3', 'eta=0.5'])"
      ]
     },
     "execution_count": 123,
     "metadata": {},
     "output_type": "execute_result"
    }
   ],
   "source": [
    "scores.keys()"
   ]
  },
  {
   "cell_type": "code",
   "execution_count": 124,
   "id": "b2241f6b",
   "metadata": {},
   "outputs": [
    {
     "data": {
      "text/plain": [
       "<matplotlib.legend.Legend at 0x14bd67e5d90>"
      ]
     },
     "execution_count": 124,
     "metadata": {},
     "output_type": "execute_result"
    },
    {
     "data": {
      "image/png": "[encoded data removed]",
      "text/plain": [
       "<Figure size 1152x360 with 1 Axes>"
      ]
     },
     "metadata": {},
     "output_type": "display_data"
    }
   ],
   "source": [
    "for key, df_score in scores.items():\n",
    "    plt.plot(df_score.num_iter, df_score.val_auc, label=key)\n",
    "plt.legend()"
   ]
  },
  {
   "cell_type": "markdown",
   "id": "76116b6e",
   "metadata": {},
   "source": [
    "### Default `eta` value of `0.3` is best parameter among other value"
   ]
  },
  {
   "cell_type": "markdown",
   "id": "242e9edc",
   "metadata": {},
   "source": [
    "### lets tune the max_depth parameter"
   ]
  },
  {
   "cell_type": "code",
   "execution_count": 125,
   "id": "b39a8d4c",
   "metadata": {},
   "outputs": [],
   "source": [
    "scores = {}\n",
    "depths = [1, 2, 4, 6, 8, 10, 12, 15]"
   ]
  },
  {
   "cell_type": "code",
   "execution_count": 126,
   "id": "a218bc27",
   "metadata": {},
   "outputs": [],
   "source": [
    "%%capture output\n",
    "\n",
    "xgb_params = {\n",
    "    'eta': 0.3, \n",
    "    'max_depth': 1,\n",
    "    'min_child_weight': 1,\n",
    "    \n",
    "    'objective': 'binary:logistic',\n",
    "    'eval_metric': 'auc',\n",
    "\n",
    "    #'nthread': 8,\n",
    "    'seed': 1,\n",
    "    'verbosity': 1,\n",
    "}\n",
    "\n",
    "model = xgb.train(xgb_params, dtrain, num_boost_round=200, verbose_eval=5, evals=watchlist)"
   ]
  },
  {
   "cell_type": "code",
   "execution_count": 127,
   "id": "9a840933",
   "metadata": {},
   "outputs": [
    {
     "name": "stdout",
     "output_type": "stream",
     "text": [
      "key = max_depth=1\n"
     ]
    }
   ],
   "source": [
    "key = f'max_depth={depths[0]}'\n",
    "print(f'key = {key}')\n",
    "scores[key] = parse_xgb_output(output)"
   ]
  },
  {
   "cell_type": "code",
   "execution_count": 128,
   "id": "6d5adff3",
   "metadata": {},
   "outputs": [],
   "source": [
    "%%capture output\n",
    "\n",
    "xgb_params['max_depth'] = depths[1]\n",
    "\n",
    "model = xgb.train(xgb_params, dtrain, num_boost_round=200, verbose_eval=5, evals=watchlist)"
   ]
  },
  {
   "cell_type": "code",
   "execution_count": 129,
   "id": "60d4ffbd",
   "metadata": {},
   "outputs": [
    {
     "name": "stdout",
     "output_type": "stream",
     "text": [
      "key = max_depth=2\n"
     ]
    }
   ],
   "source": [
    "key = f'max_depth={depths[1]}'\n",
    "print(f'key = {key}')\n",
    "scores[key] = parse_xgb_output(output)"
   ]
  },
  {
   "cell_type": "code",
   "execution_count": 130,
   "id": "bf8e8a26",
   "metadata": {},
   "outputs": [],
   "source": [
    "%%capture output\n",
    "\n",
    "xgb_params['max_depth'] = depths[2]\n",
    "\n",
    "model = xgb.train(xgb_params, dtrain, num_boost_round=200, verbose_eval=5, evals=watchlist)"
   ]
  },
  {
   "cell_type": "code",
   "execution_count": 131,
   "id": "034a3d3e",
   "metadata": {},
   "outputs": [
    {
     "name": "stdout",
     "output_type": "stream",
     "text": [
      "key = max_depth=4\n"
     ]
    }
   ],
   "source": [
    "key = f'max_depth={depths[2]}'\n",
    "print(f'key = {key}')\n",
    "scores[key] = parse_xgb_output(output)"
   ]
  },
  {
   "cell_type": "code",
   "execution_count": 132,
   "id": "aa56f32c",
   "metadata": {},
   "outputs": [],
   "source": [
    "%%capture output\n",
    "xgb_params['max_depth'] = depths[3]\n",
    "model = xgb.train(xgb_params, dtrain, num_boost_round=200, verbose_eval=5, evals=watchlist)"
   ]
  },
  {
   "cell_type": "code",
   "execution_count": 133,
   "id": "a5a5429d",
   "metadata": {},
   "outputs": [
    {
     "name": "stdout",
     "output_type": "stream",
     "text": [
      "key = max_depth=6\n"
     ]
    }
   ],
   "source": [
    "key = f'max_depth={depths[3]}'\n",
    "print(f'key = {key}')\n",
    "scores[key] = parse_xgb_output(output)"
   ]
  },
  {
   "cell_type": "code",
   "execution_count": 134,
   "id": "676d347a",
   "metadata": {},
   "outputs": [],
   "source": [
    "%%capture output\n",
    "xgb_params['max_depth'] = depths[4]\n",
    "model = xgb.train(xgb_params, dtrain, num_boost_round=200, verbose_eval=5, evals=watchlist)"
   ]
  },
  {
   "cell_type": "code",
   "execution_count": 135,
   "id": "06f24cdd",
   "metadata": {},
   "outputs": [
    {
     "name": "stdout",
     "output_type": "stream",
     "text": [
      "key = max_depth=8\n"
     ]
    }
   ],
   "source": [
    "key = f'max_depth={depths[4]}'\n",
    "print(f'key = {key}')\n",
    "scores[key] = parse_xgb_output(output)"
   ]
  },
  {
   "cell_type": "code",
   "execution_count": 136,
   "id": "5ef2c90f",
   "metadata": {},
   "outputs": [],
   "source": [
    "%%capture output\n",
    "xgb_params['max_depth'] = depths[5]\n",
    "model = xgb.train(xgb_params, dtrain, num_boost_round=200, verbose_eval=5, evals=watchlist)"
   ]
  },
  {
   "cell_type": "code",
   "execution_count": 137,
   "id": "42c8a44c",
   "metadata": {},
   "outputs": [
    {
     "name": "stdout",
     "output_type": "stream",
     "text": [
      "key = max_depth=10\n"
     ]
    }
   ],
   "source": [
    "key = f'max_depth={depths[5]}'\n",
    "print(f'key = {key}')\n",
    "scores[key] = parse_xgb_output(output)"
   ]
  },
  {
   "cell_type": "code",
   "execution_count": 138,
   "id": "9a8db888",
   "metadata": {},
   "outputs": [],
   "source": [
    "%%capture output\n",
    "xgb_params['max_depth'] = depths[6]\n",
    "model = xgb.train(xgb_params, dtrain, num_boost_round=200, verbose_eval=5, evals=watchlist)"
   ]
  },
  {
   "cell_type": "code",
   "execution_count": 139,
   "id": "4a204094",
   "metadata": {},
   "outputs": [
    {
     "name": "stdout",
     "output_type": "stream",
     "text": [
      "key = max_depth=12\n"
     ]
    }
   ],
   "source": [
    "key = f'max_depth={depths[6]}'\n",
    "print(f'key = {key}')\n",
    "scores[key] = parse_xgb_output(output)"
   ]
  },
  {
   "cell_type": "code",
   "execution_count": 140,
   "id": "8bebf184",
   "metadata": {},
   "outputs": [],
   "source": [
    "%%capture output\n",
    "xgb_params['max_depth'] = depths[7]\n",
    "model = xgb.train(xgb_params, dtrain, num_boost_round=200, verbose_eval=5, evals=watchlist)"
   ]
  },
  {
   "cell_type": "code",
   "execution_count": 141,
   "id": "6e257624",
   "metadata": {},
   "outputs": [
    {
     "name": "stdout",
     "output_type": "stream",
     "text": [
      "key = max_depth=15\n"
     ]
    }
   ],
   "source": [
    "key = f'max_depth={depths[7]}'\n",
    "print(f'key = {key}')\n",
    "scores[key] = parse_xgb_output(output)"
   ]
  },
  {
   "cell_type": "code",
   "execution_count": 142,
   "id": "3ff63c43",
   "metadata": {},
   "outputs": [
    {
     "data": {
      "text/plain": [
       "<matplotlib.legend.Legend at 0x14bd6c897c0>"
      ]
     },
     "execution_count": 142,
     "metadata": {},
     "output_type": "execute_result"
    },
    {
     "data": {
      "image/png": "[encoded data removed]",
      "text/plain": [
       "<Figure size 1152x360 with 1 Axes>"
      ]
     },
     "metadata": {},
     "output_type": "display_data"
    }
   ],
   "source": [
    "for key, df_score in scores.items():\n",
    "    plt.plot(df_score.num_iter, df_score.val_auc, label=key)\n",
    "plt.legend()"
   ]
  },
  {
   "cell_type": "markdown",
   "id": "263879e2",
   "metadata": {},
   "source": [
    "### Default `max_depth` value of `6` is best parameter among other value"
   ]
  },
  {
   "cell_type": "markdown",
   "id": "aec091e7",
   "metadata": {},
   "source": [
    "### Final model based on parameter tuning"
   ]
  },
  {
   "cell_type": "code",
   "execution_count": 143,
   "id": "f956cf1b",
   "metadata": {},
   "outputs": [],
   "source": [
    "xgb_params = {\n",
    "    'eta': 0.3, \n",
    "    'max_depth': 6,\n",
    "    'min_child_weight': 1,\n",
    "    \n",
    "    'objective': 'binary:logistic',\n",
    "    'eval_metric': 'auc',\n",
    "\n",
    "    #'nthread': 8,\n",
    "    'seed': 1,\n",
    "    'verbosity': 1,\n",
    "}\n",
    "model = xgb.train(xgb_params, dtrain, num_boost_round=15)\n",
    "y_pred = model.predict(dval)"
   ]
  },
  {
   "cell_type": "code",
   "execution_count": 144,
   "id": "a6bdbfba",
   "metadata": {},
   "outputs": [
    {
     "name": "stdout",
     "output_type": "stream",
     "text": [
      "accuracy score for XGB: 0.8865546218487395\n",
      "Precision score for XGB: 0.8780487804878049\n",
      "Recall score for XGB: 0.9\n",
      "F1 score for XGB: 0.888888888888889\n",
      "Classification report for XGB: \n",
      "              precision    recall  f1-score   support\n",
      "\n",
      "           0       0.90      0.87      0.88       118\n",
      "           1       0.88      0.90      0.89       120\n",
      "\n",
      "    accuracy                           0.89       238\n",
      "   macro avg       0.89      0.89      0.89       238\n",
      "weighted avg       0.89      0.89      0.89       238\n",
      "\n",
      "Confusion matrix for XGB: \n",
      "[[103  15]\n",
      " [ 12 108]]\n",
      "\n",
      "Auc score for XGB : 0.9328389830508474\n"
     ]
    },
    {
     "data": {
      "text/plain": [
       "<matplotlib.legend.Legend at 0x14bd6b43610>"
      ]
     },
     "execution_count": 144,
     "metadata": {},
     "output_type": "execute_result"
    },
    {
     "data": {
      "image/png": "[encoded data removed]",
      "text/plain": [
       "<Figure size 360x360 with 1 Axes>"
      ]
     },
     "metadata": {},
     "output_type": "display_data"
    }
   ],
   "source": [
    "print (\"accuracy score for XGB: {}\".format(accuracy_score(y_val, y_pred_p)))\n",
    "print(\"Precision score for XGB: {}\".format(precision_score(y_val,y_pred_p)))\n",
    "print(\"Recall score for XGB: {}\".format(recall_score(y_val,y_pred_p)))\n",
    "print(\"F1 score for XGB: {}\".format(f1_score(y_val,y_pred_p)))\n",
    "print(\"Classification report for XGB: \\n{}\".format(classification_report(y_val, y_pred_p)))\n",
    "print(\"Confusion matrix for XGB: \\n{}\".format(confusion_matrix(y_val, y_pred_p)))\n",
    "print()\n",
    "print(f'Auc score for XGB : {roc_auc_score(y_val, y_pred)}')\n",
    "fpr, tpr, thresholds = roc_curve(y_val, y_pred)\n",
    "plt.figure(figsize=(5, 5))\n",
    "\n",
    "plt.plot(fpr, tpr, label='XGB Model',color= 'purple')\n",
    "plt.plot([0, 1], [0, 1], label='Random', linestyle='--')\n",
    "\n",
    "plt.xlabel('FPR')\n",
    "plt.ylabel('TPR')\n",
    "plt.title('ROC curve (ET-Model)')\n",
    "\n",
    "plt.legend()"
   ]
  },
  {
   "cell_type": "markdown",
   "id": "f175745f",
   "metadata": {},
   "source": [
    "### Gradient Boosting cross-validation"
   ]
  },
  {
   "cell_type": "code",
   "execution_count": 145,
   "id": "5fcad5a8",
   "metadata": {},
   "outputs": [],
   "source": [
    "def train_gb(df_train, y_train, xgb_params):\n",
    "    dict = df_train.to_dict(orient='records')\n",
    "\n",
    "    dv = DictVectorizer(sparse=False)\n",
    "\n",
    "    X_train = dv.fit_transform(dict)\n",
    "\n",
    "    features = dv.get_feature_names()\n",
    "\n",
    "    dtrain = xgb.DMatrix(X_train, label=y_train, feature_names=features)\n",
    "\n",
    "    model = xgb.train(xgb_params, dtrain, num_boost_round=15)\n",
    "    \n",
    "    return dv, features, model\n",
    "\n",
    "def predict_gb(df, y_val, dv, features, model):\n",
    "    dict = df.to_dict(orient='records')\n",
    "\n",
    "    X = dv.transform(dict)\n",
    "\n",
    "    dval = xgb.DMatrix(X, label=y_val, feature_names=features)\n",
    "\n",
    "    y_pred = model.predict(dval)\n",
    "\n",
    "    return y_pred"
   ]
  },
  {
   "cell_type": "code",
   "execution_count": 146,
   "id": "ddaa9876",
   "metadata": {},
   "outputs": [
    {
     "name": "stderr",
     "output_type": "stream",
     "text": [
      "C:\\Users\\460484\\Anaconda3\\lib\\site-packages\\sklearn\\utils\\deprecation.py:87: FutureWarning: Function get_feature_names is deprecated; get_feature_names is deprecated in 1.0 and will be removed in 1.2. Please use get_feature_names_out instead.\n",
      "  warnings.warn(msg, category=FutureWarning)\n",
      "C:\\Users\\460484\\Anaconda3\\lib\\site-packages\\sklearn\\utils\\deprecation.py:87: FutureWarning: Function get_feature_names is deprecated; get_feature_names is deprecated in 1.0 and will be removed in 1.2. Please use get_feature_names_out instead.\n",
      "  warnings.warn(msg, category=FutureWarning)\n",
      "C:\\Users\\460484\\Anaconda3\\lib\\site-packages\\sklearn\\utils\\deprecation.py:87: FutureWarning: Function get_feature_names is deprecated; get_feature_names is deprecated in 1.0 and will be removed in 1.2. Please use get_feature_names_out instead.\n",
      "  warnings.warn(msg, category=FutureWarning)\n",
      "C:\\Users\\460484\\Anaconda3\\lib\\site-packages\\sklearn\\utils\\deprecation.py:87: FutureWarning: Function get_feature_names is deprecated; get_feature_names is deprecated in 1.0 and will be removed in 1.2. Please use get_feature_names_out instead.\n",
      "  warnings.warn(msg, category=FutureWarning)\n",
      "C:\\Users\\460484\\Anaconda3\\lib\\site-packages\\sklearn\\utils\\deprecation.py:87: FutureWarning: Function get_feature_names is deprecated; get_feature_names is deprecated in 1.0 and will be removed in 1.2. Please use get_feature_names_out instead.\n",
      "  warnings.warn(msg, category=FutureWarning)\n"
     ]
    }
   ],
   "source": [
    "n_splits = 5\n",
    "\n",
    "scores = []\n",
    "\n",
    "xgb_params = {\n",
    "    'eta': 0.3, \n",
    "    'max_depth': 6,\n",
    "    'min_child_weight': 1,\n",
    "    \n",
    "    'objective': 'binary:logistic',\n",
    "    'eval_metric': 'auc',\n",
    "\n",
    "    #'nthread': 8,\n",
    "    'seed': 1,\n",
    "    'verbosity': 1,\n",
    "}\n",
    "\n",
    "kfold = KFold(n_splits=n_splits, shuffle=True, random_state=1)\n",
    "\n",
    "for train_idx, val_idx in kfold.split(df_full_train):\n",
    "    df_train = df_full_train.iloc[train_idx]\n",
    "    df_val = df_full_train.iloc[val_idx]\n",
    "\n",
    "    y_train = df_train.heart_diesease.values\n",
    "    y_val = df_val.heart_diesease.values\n",
    "\n",
    "    del df_train['heart_diesease']\n",
    "    del df_val['heart_diesease']\n",
    "\n",
    "    dv, features, model = train_gb(df_train, y_train, xgb_params)\n",
    "    y_pred = predict_gb(df_val, y_val, dv, features, model)\n",
    "\n",
    "    auc = roc_auc_score(y_val, y_pred)\n",
    "    scores.append(auc)"
   ]
  },
  {
   "cell_type": "code",
   "execution_count": 147,
   "id": "20a34d71",
   "metadata": {},
   "outputs": [
    {
     "name": "stdout",
     "output_type": "stream",
     "text": [
      "XGB CV auc scores:\n",
      " [0.919188596491228, 0.9529741863075195, 0.9327125595831948, 0.9274622892635315, 0.9419290243631105]\n",
      "\n",
      "XGB CV Scores mean: 0.935\n",
      "\n",
      "XGB CV Scores standard deviation: 0.012\n"
     ]
    }
   ],
   "source": [
    "print(f'XGB CV auc scores:\\n {scores}\\n')\n",
    "print(f'XGB CV Scores mean: {round(np.mean(scores),3)}\\n')\n",
    "print(f'XGB CV Scores standard deviation: {round(np.std(scores),3)}')"
   ]
  },
  {
   "cell_type": "markdown",
   "id": "39d2f0d3",
   "metadata": {},
   "source": [
    "### Final model selection"
   ]
  },
  {
   "cell_type": "markdown",
   "id": "e50bf795",
   "metadata": {},
   "source": [
    "| Model Name | Initial AUC score | CV mean of AUC score  |CV standard deviation of AUC score|\n",
    "|:---        |    :----:         |  :----:               |          ---:|\n",
    "| Logistic Regression| 0.887 | 0.908 |0.013|\n",
    "|Decision Trees|0.892|0.896|0.015|\n",
    "|Random Forest|0.947|0.956|0.01|\n",
    "|Extra Trees|`0.957`|`0.957`|0.01|\n",
    "|XG Boost|0.933|0.935|0.012|"
   ]
  },
  {
   "cell_type": "markdown",
   "id": "4d3d12e6",
   "metadata": {},
   "source": [
    "### Based on this data,  Extra trees and random forest models are performing better when compared to other models.But we need to train these 5 models with our full train dataset and confirm them with the test dataset."
   ]
  },
  {
   "cell_type": "code",
   "execution_count": 148,
   "id": "474240c5",
   "metadata": {},
   "outputs": [],
   "source": [
    "df_full_train = df_full_train.reset_index(drop=True)\n",
    "y_full_train = df_full_train.heart_diesease.values\n",
    "del df_full_train['heart_diesease']"
   ]
  },
  {
   "cell_type": "code",
   "execution_count": 149,
   "id": "c803d533",
   "metadata": {},
   "outputs": [],
   "source": [
    "dict_f = df_full_train.to_dict(orient='records')\n",
    "dv_f = DictVectorizer(sparse=False)\n",
    "X_full_train = dv_f.fit_transform(dict_f)"
   ]
  },
  {
   "cell_type": "code",
   "execution_count": 150,
   "id": "e8f14752",
   "metadata": {},
   "outputs": [
    {
     "name": "stderr",
     "output_type": "stream",
     "text": [
      "C:\\Users\\460484\\Anaconda3\\lib\\site-packages\\sklearn\\utils\\deprecation.py:87: FutureWarning: Function get_feature_names is deprecated; get_feature_names is deprecated in 1.0 and will be removed in 1.2. Please use get_feature_names_out instead.\n",
      "  warnings.warn(msg, category=FutureWarning)\n"
     ]
    }
   ],
   "source": [
    "dfulltrain = xgb.DMatrix(X_full_train, label=y_full_train, feature_names=dv_f.get_feature_names())\n",
    "dtest = xgb.DMatrix(X_test, feature_names=dv_f.get_feature_names())"
   ]
  },
  {
   "cell_type": "markdown",
   "id": "8eb059a5",
   "metadata": {},
   "source": [
    "### Logistic Regression"
   ]
  },
  {
   "cell_type": "code",
   "execution_count": 151,
   "id": "04cd7a5f",
   "metadata": {},
   "outputs": [
    {
     "name": "stdout",
     "output_type": "stream",
     "text": [
      "Auc score for LR : 0.9404128537986807\n"
     ]
    },
    {
     "data": {
      "text/plain": [
       "<matplotlib.legend.Legend at 0x14bd67e5eb0>"
      ]
     },
     "execution_count": 151,
     "metadata": {},
     "output_type": "execute_result"
    },
    {
     "data": {
      "image/png": "[encoded data removed]",
      "text/plain": [
       "<Figure size 360x360 with 1 Axes>"
      ]
     },
     "metadata": {},
     "output_type": "display_data"
    }
   ],
   "source": [
    "lr = LogisticRegression(solver=\"liblinear\", C=1.0, max_iter=1000, random_state=42)\n",
    "lr.fit(X_full_train, y_full_train)\n",
    "y_pred = lr.predict_proba(X_test)[:, 1]\n",
    "print(f'Auc score for LR : {roc_auc_score(y_test, y_pred)}')\n",
    "fpr, tpr, thresholds = roc_curve(y_test, y_pred)\n",
    "plt.figure(figsize=(5, 5))\n",
    "\n",
    "plt.plot(fpr, tpr, label='Logistic Regression Model',color= 'red')\n",
    "plt.plot([0, 1], [0, 1], label='Random', linestyle='--')\n",
    "\n",
    "plt.xlabel('FPR')\n",
    "plt.ylabel('TPR')\n",
    "plt.title('ROC curve (LR-Model)')\n",
    "\n",
    "plt.legend()"
   ]
  },
  {
   "cell_type": "markdown",
   "id": "b2ae098e",
   "metadata": {},
   "source": [
    "### Decision Trees"
   ]
  },
  {
   "cell_type": "code",
   "execution_count": 152,
   "id": "d6af7718",
   "metadata": {},
   "outputs": [
    {
     "name": "stdout",
     "output_type": "stream",
     "text": [
      "Auc score for DT : 0.9293466695041499\n"
     ]
    },
    {
     "data": {
      "text/plain": [
       "<matplotlib.legend.Legend at 0x14bd6bab1c0>"
      ]
     },
     "execution_count": 152,
     "metadata": {},
     "output_type": "execute_result"
    },
    {
     "data": {
      "image/png": "[encoded data removed]",
      "text/plain": [
       "<Figure size 360x360 with 1 Axes>"
      ]
     },
     "metadata": {},
     "output_type": "display_data"
    }
   ],
   "source": [
    "dt = DecisionTreeClassifier(max_depth=4, min_samples_leaf=15)\n",
    "dt.fit(X_full_train, y_full_train)\n",
    "y_pred = dt.predict_proba(X_test)[:, 1]\n",
    "print(f'Auc score for DT : {roc_auc_score(y_test, y_pred)}')\n",
    "fpr, tpr, thresholds = roc_curve(y_test, y_pred)\n",
    "plt.figure(figsize=(5, 5))\n",
    "\n",
    "plt.plot(fpr, tpr, label='Decision Trees Model',color= 'blue')\n",
    "plt.plot([0, 1], [0, 1], label='Random', linestyle='--')\n",
    "\n",
    "plt.xlabel('FPR')\n",
    "plt.ylabel('TPR')\n",
    "plt.title('ROC curve (DT-Model)')\n",
    "\n",
    "plt.legend()"
   ]
  },
  {
   "cell_type": "markdown",
   "id": "99a99cdf",
   "metadata": {},
   "source": [
    "### Random Forest model"
   ]
  },
  {
   "cell_type": "code",
   "execution_count": 153,
   "id": "357084c9",
   "metadata": {},
   "outputs": [
    {
     "name": "stdout",
     "output_type": "stream",
     "text": [
      "Auc score for RF : 0.9893594381783358\n"
     ]
    },
    {
     "data": {
      "text/plain": [
       "<matplotlib.legend.Legend at 0x14bd6e42880>"
      ]
     },
     "execution_count": 153,
     "metadata": {},
     "output_type": "execute_result"
    },
    {
     "data": {
      "image/png": "[encoded data removed]",
      "text/plain": [
       "<Figure size 360x360 with 1 Axes>"
      ]
     },
     "metadata": {},
     "output_type": "display_data"
    }
   ],
   "source": [
    "rf = RandomForestClassifier(n_estimators=40,\n",
    "                            max_depth=max_depth,\n",
    "                            min_samples_leaf=min_samples_leaf,\n",
    "                            bootstrap=False,\n",
    "                            random_state=1)\n",
    "rf.fit(X_full_train, y_full_train)\n",
    "y_pred = rf.predict_proba(X_test)[:, 1]\n",
    "print(f'Auc score for RF : {roc_auc_score(y_test, y_pred)}')\n",
    "fpr, tpr, thresholds = roc_curve(y_test, y_pred)\n",
    "plt.figure(figsize=(5, 5))\n",
    "\n",
    "plt.plot(fpr, tpr, label='Random Forest Model',color= 'blue')\n",
    "plt.plot([0, 1], [0, 1], label='Random', linestyle='--')\n",
    "\n",
    "plt.xlabel('FPR')\n",
    "plt.ylabel('TPR')\n",
    "plt.title('ROC curve (RF-Model)')\n",
    "\n",
    "plt.legend()"
   ]
  },
  {
   "cell_type": "markdown",
   "id": "b2443355",
   "metadata": {},
   "source": [
    "### Extra trees model"
   ]
  },
  {
   "cell_type": "code",
   "execution_count": 154,
   "id": "78fad16e",
   "metadata": {},
   "outputs": [
    {
     "name": "stdout",
     "output_type": "stream",
     "text": [
      "Auc score for RF : 0.9894303752571469\n"
     ]
    },
    {
     "data": {
      "text/plain": [
       "<matplotlib.legend.Legend at 0x14bd6e3bd30>"
      ]
     },
     "execution_count": 154,
     "metadata": {},
     "output_type": "execute_result"
    },
    {
     "data": {
      "image/png": "[encoded data removed]",
      "text/plain": [
       "<Figure size 360x360 with 1 Axes>"
      ]
     },
     "metadata": {},
     "output_type": "display_data"
    }
   ],
   "source": [
    "et = ExtraTreesClassifier(n_estimators=50,\n",
    "                            min_samples_leaf=min_samples_leaf,\n",
    "                            random_state=1)\n",
    "et.fit(X_full_train, y_full_train)\n",
    "y_pred = et.predict_proba(X_test)[:, 1]\n",
    "print(f'Auc score for RF : {roc_auc_score(y_test, y_pred)}')\n",
    "fpr, tpr, thresholds = roc_curve(y_test, y_pred)\n",
    "plt.figure(figsize=(5, 5))\n",
    "\n",
    "plt.plot(fpr, tpr, label='Extra Trees Model',color= 'blue')\n",
    "plt.plot([0, 1], [0, 1], label='Random', linestyle='--')\n",
    "\n",
    "plt.xlabel('FPR')\n",
    "plt.ylabel('TPR')\n",
    "plt.title('ROC curve (ET-Model)')\n",
    "\n",
    "plt.legend()"
   ]
  },
  {
   "cell_type": "markdown",
   "id": "9165702e",
   "metadata": {},
   "source": [
    "### Gradient Boosting Model"
   ]
  },
  {
   "cell_type": "code",
   "execution_count": 155,
   "id": "278470c0",
   "metadata": {},
   "outputs": [
    {
     "name": "stdout",
     "output_type": "stream",
     "text": [
      "Auc score for G Boost : 0.976803575228772\n"
     ]
    },
    {
     "data": {
      "text/plain": [
       "<matplotlib.legend.Legend at 0x14bd6eef340>"
      ]
     },
     "execution_count": 155,
     "metadata": {},
     "output_type": "execute_result"
    },
    {
     "data": {
      "image/png": "[encoded data removed]",
      "text/plain": [
       "<Figure size 360x360 with 1 Axes>"
      ]
     },
     "metadata": {},
     "output_type": "display_data"
    }
   ],
   "source": [
    "xgb_params = {\n",
    "    'eta': 0.3, \n",
    "    'max_depth': 6,\n",
    "    'min_child_weight': 1,\n",
    "    \n",
    "    'objective': 'binary:logistic',\n",
    "    'eval_metric': 'auc',\n",
    "\n",
    "    #'nthread': 8,\n",
    "    'seed': 1,\n",
    "    'verbosity': 1,\n",
    "}\n",
    "model = xgb.train(xgb_params, dfulltrain, num_boost_round=15)\n",
    "y_pred = model.predict(dtest)\n",
    "print(f'Auc score for G Boost : {roc_auc_score(y_test, y_pred)}')\n",
    "fpr, tpr, thresholds = roc_curve(y_test, y_pred)\n",
    "plt.figure(figsize=(5, 5))\n",
    "\n",
    "plt.plot(fpr, tpr, label='Gradient Boost Model',color= 'cyan')\n",
    "plt.plot([0, 1], [0, 1], label='Random', linestyle='--')\n",
    "\n",
    "plt.xlabel('FPR')\n",
    "plt.ylabel('TPR')\n",
    "plt.title('ROC curve (G Boost-Model)')\n",
    "\n",
    "plt.legend()"
   ]
  },
  {
   "cell_type": "markdown",
   "id": "46d89a14",
   "metadata": {},
   "source": [
    "### Based on the results, Extra trees model is best model with AUC score of `0.989` with following parameters:\n",
    "\n",
    "### `ExtraTreesClassifier(n_estimators=50,min_samples_leaf=min_samples_leaf,random_state=1)`"
   ]
  },
  {
   "cell_type": "markdown",
   "id": "036bcb45",
   "metadata": {},
   "source": [
    "## Saving Final bentoml model"
   ]
  },
  {
   "cell_type": "code",
   "execution_count": 156,
   "id": "3d738388",
   "metadata": {},
   "outputs": [],
   "source": [
    "# final_model = et.fit(X_full_train, y_full_train)"
   ]
  },
  {
   "cell_type": "code",
   "execution_count": 157,
   "id": "befd507b",
   "metadata": {},
   "outputs": [],
   "source": [
    "# import bentoml"
   ]
  },
  {
   "cell_type": "code",
   "execution_count": 158,
   "id": "4e1a4deb",
   "metadata": {},
   "outputs": [],
   "source": [
    "# bentoml.sklearn"
   ]
  },
  {
   "cell_type": "code",
   "execution_count": 159,
   "id": "9fc1c604",
   "metadata": {},
   "outputs": [],
   "source": [
    "# bentoml.sklearn.save_model(\n",
    "#     'Heart_failure_prediction',\n",
    "#     final_model,\n",
    "#     custom_objects={\n",
    "#         'dictVectorizer': dv\n",
    "#     })"
   ]
  },
  {
   "cell_type": "code",
   "execution_count": 160,
   "id": "b15d43e6",
   "metadata": {},
   "outputs": [],
   "source": [
    "# import json"
   ]
  },
  {
   "cell_type": "code",
   "execution_count": 161,
   "id": "7cb80c74",
   "metadata": {},
   "outputs": [],
   "source": [
    "# request = df_test.iloc[0].to_dict()\n",
    "# print(json.dumps(request, indent=2))"
   ]
  },
  {
   "cell_type": "code",
   "execution_count": null,
   "id": "b34a615d",
   "metadata": {},
   "outputs": [],
   "source": []
  }
 ],
 "metadata": {
  "kernelspec": {
   "display_name": "Python 3 (ipykernel)",
   "language": "python",
   "name": "python3"
  },
  "language_info": {
   "codemirror_mode": {
    "name": "ipython",
    "version": 3
   },
   "file_extension": ".py",
   "mimetype": "text/x-python",
   "name": "python",
   "nbconvert_exporter": "python",
   "pygments_lexer": "ipython3",
   "version": "3.9.12"
  }
 },
 "nbformat": 4,
 "nbformat_minor": 5
}
